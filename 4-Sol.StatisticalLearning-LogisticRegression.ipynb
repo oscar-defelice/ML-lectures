{
 "cells": [
  {
   "cell_type": "markdown",
   "metadata": {},
   "source": [
    "![title](https://pythonawesome.com/content/images/2018/05/scikit-learn.png)"
   ]
  },
  {
   "cell_type": "markdown",
   "metadata": {},
   "source": [
    "# Classification problem"
   ]
  },
  {
   "cell_type": "markdown",
   "metadata": {},
   "source": [
    "We are going to treat a kind of problems like\n",
    "\n",
    "* Email: spam or not spam?\n",
    "* Online transaction: fraudolent or not?\n",
    "* Tumor: malignant or benign?\n",
    "\n",
    "These are all examples of a class of problems known as __classification__."
   ]
  },
  {
   "cell_type": "markdown",
   "metadata": {},
   "source": [
    "Let's suppose we have data about tumor size over a set of patients.\n",
    "For instance, we classify tumor in benign or malignant by a label $y \\in \\{ 0, 1 \\}$.\n",
    "Where,"
   ]
  },
  {
   "cell_type": "markdown",
   "metadata": {},
   "source": [
    "| $y$ |       class        | tumor nature |\n",
    "|--|---|--|\n",
    "| $0$ | __Negative class__ | benign    |\n",
    "| $1$ | __Positive class__ | malignant |"
   ]
  },
  {
   "cell_type": "markdown",
   "metadata": {},
   "source": [
    "We also have the size of tumors, so we can make a plot, like"
   ]
  },
  {
   "cell_type": "code",
   "execution_count": 1,
   "metadata": {},
   "outputs": [],
   "source": [
    "# Standard imports.\n",
    "%matplotlib inline\n",
    "import pandas as pd\n",
    "import numpy as np\n",
    "import matplotlib.pyplot as plt\n",
    "import matplotlib.ticker as ticker\n",
    "\n",
    "plt.rcParams[\"figure.figsize\"] = (15,10) # Change the default figure size"
   ]
  },
  {
   "cell_type": "code",
   "execution_count": 2,
   "metadata": {},
   "outputs": [
    {
     "data": {
      "text/plain": [
       "Text(0, 0.5, 'Class')"
      ]
     },
     "execution_count": 2,
     "metadata": {},
     "output_type": "execute_result"
    },
    {
     "data": {
      "image/png": "[encoded data removed]",
      "text/plain": [
       "<Figure size 432x288 with 1 Axes>"
      ]
     },
     "metadata": {},
     "output_type": "display_data"
    }
   ],
   "source": [
    "x = [0.2, 0.25, 0.35, 0.4, 0.5, 0.7, 0.9, 1.2, 1.3]\n",
    "y = [0, 0, 0, 0, 0, 1, 1, 1, 1]\n",
    "\n",
    "plt.scatter(x, y, s=30, c='red', marker='+')\n",
    "plt.xlabel('Tumor size')\n",
    "plt.ylabel('Class')"
   ]
  },
  {
   "cell_type": "markdown",
   "metadata": {},
   "source": [
    "Thus, let's imagine to define a threshold classifier, $h_\\beta (x)$ at $0.5$ as follows,\n",
    "\n",
    "$$\\mbox{prediction} = \\begin{cases} y = 1\\qquad \\mbox{if} & h_\\beta(x) \\geq 0.5 \\\\\n",
    "                y = 0\\qquad \\mbox{if} & h_\\beta(x) < 0.5 \\end{cases} $$"
   ]
  },
  {
   "cell_type": "markdown",
   "metadata": {},
   "source": [
    "__Classification problem__: we want to predict $y = 0$ or $y = 1$ with an hypothesis function $0 \\leq h_\\beta(x) \\leq 1$"
   ]
  },
  {
   "cell_type": "markdown",
   "metadata": {},
   "source": [
    "## Logistic regression"
   ]
  },
  {
   "cell_type": "markdown",
   "metadata": {},
   "source": [
    "For linear regression the hypothesis function looked like\n",
    "\n",
    "$$ h_\\beta(x) = \\beta_0 + \\beta_1 x = \\beta^T X \\, .$$"
   ]
  },
  {
   "cell_type": "markdown",
   "metadata": {},
   "source": [
    "To define the _logistic regression model_ we look for a function, in range $[0,1]$ and such that the prediction is $1$ if $h_\\beta(x) \\geq 0.5$ and $0$ otherwise.\n",
    "\n",
    "This can be done thanks to the so-called [_sigmoid function_](https://en.wikipedia.org/wiki/Sigmoid_function).\n",
    "\n",
    "$$ h_\\beta (x) = g(\\beta^T X) = \\frac{1}{1 + e^{-\\beta^T X}} $$"
   ]
  },
  {
   "cell_type": "markdown",
   "metadata": {},
   "source": [
    "Let's define this as a python function.\n",
    "Hence, we plot such a function."
   ]
  },
  {
   "cell_type": "code",
   "execution_count": 3,
   "metadata": {},
   "outputs": [],
   "source": [
    "# While using (return 1 / (1 + np.exp(-z))), per the sigmoid function, I was getting an overflow warning.\n",
    "# As a solution warning can be ignored, or the dtype can be changed to not cause the error/warning.\n",
    "# I used expit method from scipy to eliminate this issue.\n",
    "from scipy.special import expit\n",
    "\n",
    "# Defining sigmoid function:\n",
    "def sigmoid(z):\n",
    "    # return 1 / (1 + np.exp(-z))\n",
    "    return expit(z)"
   ]
  },
  {
   "cell_type": "code",
   "execution_count": 4,
   "metadata": {},
   "outputs": [
    {
     "data": {
      "image/png": "[encoded data removed]",
      "text/plain": [
       "<Figure size 1080x720 with 1 Axes>"
      ]
     },
     "metadata": {},
     "output_type": "display_data"
    }
   ],
   "source": [
    "# Defining x range\n",
    "x_val = np.linspace(-10, 10, 10000)\n",
    "\n",
    "# and plotting the calculated sigmoid function:\n",
    "plt.rcParams[\"figure.figsize\"] = (15,10)\n",
    "plt.plot(x_val, sigmoid(x_val))\n",
    "\n",
    "# Labels and limits\n",
    "plt.xlabel('z')\n",
    "plt.ylabel('sigmoid(z)')\n",
    "plt.xlim(x_val.min(), x_val.max())\n",
    "plt.ylim(0, 1);"
   ]
  },
  {
   "cell_type": "markdown",
   "metadata": {},
   "source": [
    "From the plot above, one can see an hypothesis modelled on the sigmoid function predicts $y=1$ if and only if $z \\geq 0$, and in our model $z = \\beta^T x$."
   ]
  },
  {
   "cell_type": "markdown",
   "metadata": {},
   "source": [
    "#### Interpretation of hypothesis output"
   ]
  },
  {
   "cell_type": "markdown",
   "metadata": {},
   "source": [
    "One can see the value of $h_\\beta(x)$ as the estimated probability that $y=1$, on a given input $x$."
   ]
  },
  {
   "cell_type": "markdown",
   "metadata": {},
   "source": [
    "### Gradient descent strikes back"
   ]
  },
  {
   "cell_type": "markdown",
   "metadata": {},
   "source": [
    "A curious reader may wonder how do we insert parameters and fit them on our training dataset?\n",
    "\n",
    "The curious reader would find the answers to this and to more interesting questions in the following."
   ]
  },
  {
   "cell_type": "markdown",
   "metadata": {},
   "source": [
    "#### Logistic regression cost function"
   ]
  },
  {
   "cell_type": "markdown",
   "metadata": {},
   "source": [
    "In this part of the assignment we will implement cost function and gradient methods for logistic regression."
   ]
  },
  {
   "cell_type": "markdown",
   "metadata": {},
   "source": [
    "The mathematical expression for logistic regression cost function is\n",
    "\n",
    "$$ J(\\beta) = -\\frac{1}{n} \\sum y_i \\log(h_\\beta(x_i)) + (1 - y_i) \\log(1 - h_\\beta(x_i))\\, .$$\n",
    "\n",
    "Note $J(\\beta) = 0$ if and only if alle the y labels are predicted correctly, more formally if and only if\n",
    "\n",
    "$$ h_\\beta (x_i) = y_i \\quad \\forall i\\, .$$"
   ]
  },
  {
   "cell_type": "markdown",
   "metadata": {},
   "source": [
    "__Question:__ How do we minimise such cost function?"
   ]
  },
  {
   "cell_type": "markdown",
   "metadata": {},
   "source": [
    "Well, one method might be the _gradient descent_. \n",
    "\n",
    "Let's calculate the gradient of the expression above with respect to the variable $\\beta$.\n",
    "In a vector notation it looks like,"
   ]
  },
  {
   "cell_type": "markdown",
   "metadata": {},
   "source": [
    "$$\\nabla_{\\beta} J(\\beta) = \\dfrac{1}{n} X^T (h_{\\beta}(x) - y ) \\, .$$"
   ]
  },
  {
   "cell_type": "markdown",
   "metadata": {},
   "source": [
    "Let's now implement all of this with python functions."
   ]
  },
  {
   "cell_type": "code",
   "execution_count": 5,
   "metadata": {},
   "outputs": [],
   "source": [
    "# Defining costFunction method:\n",
    "def costFunction(beta, X, y, C = 0):\n",
    "    # Number of training examples\n",
    "    m = len(y)\n",
    "    y = np.array(y)\n",
    "    # eps = 1e-15  was taken from the solution by jellis18\n",
    "    # https://github.com/jellis18/ML-Course-Solutions/blob/master/ex2/ex2.ipynb\n",
    "    # It is tolerance for sigmoid function, fixes loss of precision error. \n",
    "    # Eliminates errors while using BFGS minimization in calculations using scipy.\n",
    "    eps = 1e-15\n",
    "    \n",
    "    hBetaX = sigmoid(np.dot(X, beta))\n",
    "    \n",
    "    J = - (np.dot(y, np.log(hBetaX)) + np.dot((1 - y), np.log(1 - hBetaX + eps))) / m + (C / (2 * m)) * np.dot(beta, beta)\n",
    "\n",
    "    return J"
   ]
  },
  {
   "cell_type": "code",
   "execution_count": 6,
   "metadata": {},
   "outputs": [],
   "source": [
    "# Defining gradientFunc:\n",
    "def gradientFunc(beta, X, y, C=0):\n",
    "    # Number of training examples\n",
    "    m = len(y)\n",
    "    y = np.array(y)\n",
    "    \n",
    "    hBetaX = sigmoid(np.dot(X, beta))\n",
    "    \n",
    "    gradient =  np.dot(X.T, (hBetaX - y)) / m + (C/m)*beta\n",
    "    \n",
    "    return gradient"
   ]
  },
  {
   "cell_type": "code",
   "execution_count": 7,
   "metadata": {},
   "outputs": [],
   "source": [
    "# Defining gradient descent method\n",
    "def gradientDescent(beta, X, y, alpha = .1, max_iterations = 1500, cost_thr = 1e-5, regular = 0):\n",
    "    \n",
    "    m = len(y) # Number of training examples\n",
    "    \n",
    "    y = np.array(y)\n",
    "    cost = []\n",
    "    betaMod = beta.copy()\n",
    "    betaHist = []\n",
    "    \n",
    "    for i in range(max_iterations):                                 # complete here (the student has to write \n",
    "        betaMod = betaMod - (gradientFunc(betaMod, X, y, regular)* alpha)    # down this for-loop)\n",
    "        cost.append(costFunction(betaMod, X, y, regular))\n",
    "        betaHist.append(list(betaMod))\n",
    "        # Exit conditions\n",
    "        if cost[i] < cost_thr:\n",
    "            break\n",
    "        if i > 0 and (abs(cost[i] - cost[i-1])/cost[i] < cost_thr):\n",
    "            break\n",
    "        \n",
    "    cost = np.array(cost)\n",
    "    \n",
    "    return betaMod, cost, betaHist, i"
   ]
  },
  {
   "cell_type": "markdown",
   "metadata": {},
   "source": [
    "__Observe__: As we wrote the functions labels $y_i$ must be in the set $\\{0, 1\\}$."
   ]
  },
  {
   "cell_type": "markdown",
   "metadata": {},
   "source": [
    "### Predictions with `sklearn`"
   ]
  },
  {
   "cell_type": "markdown",
   "metadata": {},
   "source": [
    "We are now ready to make predictions.\n",
    "\n",
    "Let's suppose Matthew goes to the doctor and finds out it has a tumor of size `x = 0.55`.\n",
    "\n",
    "__question__ Can you calculate the probability Matthew has a benign tumor?"
   ]
  },
  {
   "cell_type": "code",
   "execution_count": 8,
   "metadata": {},
   "outputs": [
    {
     "data": {
      "text/plain": [
       "LogisticRegression(C=1.0, class_weight=None, dual=False, fit_intercept=True,\n",
       "                   intercept_scaling=1, l1_ratio=None, max_iter=100,\n",
       "                   multi_class='warn', n_jobs=None, penalty='l2',\n",
       "                   random_state=None, solver='liblinear', tol=0.0001, verbose=0,\n",
       "                   warm_start=False)"
      ]
     },
     "execution_count": 8,
     "metadata": {},
     "output_type": "execute_result"
    }
   ],
   "source": [
    "from sklearn.linear_model import LogisticRegression\n",
    "x = np.array(x).reshape(-1,1)\n",
    "size_test = np.array(0.55).reshape(1,-1) # Matthew tumor\n",
    "\n",
    "logreg = LogisticRegression(solver = 'liblinear')\n",
    "logreg.fit(x,y)"
   ]
  },
  {
   "cell_type": "code",
   "execution_count": 9,
   "metadata": {},
   "outputs": [
    {
     "name": "stdout",
     "output_type": "stream",
     "text": [
      "Is the tumor malignant? NO! =)\n"
     ]
    }
   ],
   "source": [
    "pred = logreg.predict(size_test)\n",
    "\n",
    "# complete such that the variable iscancer takes string values YES/NO\n",
    "\n",
    "if pred == 0:\n",
    "    iscancer = 'NO! =)'\n",
    "else:\n",
    "    iscancer = 'YES =('\n",
    "    \n",
    "print('Is the tumor malignant?', iscancer)"
   ]
  },
  {
   "cell_type": "markdown",
   "metadata": {},
   "source": [
    "Good news for Matthew!\n",
    "But what about the probability (or confidence) about such result?\n",
    "\n",
    "Well, `sklearn` logistic regression has a method called `predict_proba` doing the job for us, let's just call this method."
   ]
  },
  {
   "cell_type": "code",
   "execution_count": 10,
   "metadata": {},
   "outputs": [
    {
     "name": "stdout",
     "output_type": "stream",
     "text": [
      "Probability Matthew has no cancer: 0.515%\n",
      "Probability Matthew has cancer: 0.485%\n"
     ]
    }
   ],
   "source": [
    "prob = logreg.predict_proba(size_test)\n",
    "\n",
    "NOprob = prob[0][0]\n",
    "YESprob = prob[0][1]\n",
    "\n",
    "print('Probability Matthew has no cancer: %.3f%%' %NOprob)\n",
    "print('Probability Matthew has cancer: %.3f%%' %YESprob)"
   ]
  },
  {
   "cell_type": "markdown",
   "metadata": {},
   "source": [
    "Well, Matthew cannot be completely sure about his health conditions, better to keep checking."
   ]
  },
  {
   "cell_type": "markdown",
   "metadata": {},
   "source": [
    "__BONUS EXERCISE__: Can you do the same predictions using your implemented functions?\n",
    "Compare results"
   ]
  },
  {
   "cell_type": "code",
   "execution_count": 11,
   "metadata": {},
   "outputs": [],
   "source": [
    "# reshaping X\n",
    "X = np.ones((len(x), 2))\n",
    "X[:,1] = np.array(x).flatten() # why do we need to flatten the vector?"
   ]
  },
  {
   "cell_type": "code",
   "execution_count": 12,
   "metadata": {},
   "outputs": [],
   "source": [
    "# initialise β\n",
    "beta = np.zeros(X.shape[1])\n",
    "\n",
    "# initialise parameters\n",
    "max_iter = 1500\n",
    "alpha = 0.01"
   ]
  },
  {
   "cell_type": "code",
   "execution_count": 13,
   "metadata": {},
   "outputs": [],
   "source": [
    "# fit using gradientDescent\n",
    "\n",
    "betaMod, cost, betaHist, iterations = gradientDescent(beta, X, y, alpha, max_iter)"
   ]
  },
  {
   "cell_type": "code",
   "execution_count": 14,
   "metadata": {},
   "outputs": [
    {
     "name": "stdout",
     "output_type": "stream",
     "text": [
      "The probability Matthew has a cancer is 0.47%\n"
     ]
    }
   ],
   "source": [
    "# add bias term and reshape the size_test vector\n",
    "x_test = np.array(0.55)\n",
    "X_test = np.hstack((np.array([1]), x_test))\n",
    "# predict\n",
    "myPrediction = sigmoid(np.dot(X_test, betaMod))\n",
    "\n",
    "print('The probability Matthew has a cancer is %.2f%%' %myPrediction)"
   ]
  },
  {
   "cell_type": "markdown",
   "metadata": {},
   "source": [
    "### Decision boundaries in logistic regression"
   ]
  },
  {
   "cell_type": "markdown",
   "metadata": {},
   "source": [
    "In the next cells, we want to face the famous standard exercise in machine learning: _Iris dataset calssification_.\n",
    "\n",
    "This will help us to focus on several important aspects of classification problems.\n",
    "\n",
    "Let's consider a notorious [dataset](https://en.wikipedia.org/wiki/Iris_flower_data_set), describing iris flowers through four features: \n",
    "\n",
    "1. Sepal width\n",
    "2. Sepal lenght\n",
    "3. Petal width\n",
    "4. Petal lenght\n",
    "\n",
    "The problem formulation is really easy:\n",
    "\n",
    "> Given a new iris flower, can we infer which species it belong to from its measures? \n",
    "\n",
    "Let's answer to this question!"
   ]
  },
  {
   "cell_type": "markdown",
   "metadata": {},
   "source": [
    "![title](https://d31ezp3r8jwmks.cloudfront.net/variants/2dzeX71EceP88fenXxy1uj1t/d2e337a4f6900f8d0798c596eb0607a8e0c2fbddb6a7ab7afcd60009c119d4c7)"
   ]
  },
  {
   "cell_type": "markdown",
   "metadata": {},
   "source": [
    "First of all, we select the first two features, just for the sake of simplicity and to visualise data in a graph.\n",
    "Thus, we have only features regarding sepal."
   ]
  },
  {
   "cell_type": "code",
   "execution_count": 15,
   "metadata": {},
   "outputs": [
    {
     "data": {
      "image/png": "[encoded data removed]",
      "text/plain": [
       "<Figure size 1080x720 with 1 Axes>"
      ]
     },
     "metadata": {},
     "output_type": "display_data"
    }
   ],
   "source": [
    "import numpy as np\n",
    "import matplotlib.pyplot as plt\n",
    "from sklearn import datasets\n",
    "\n",
    "# import some data to play with\n",
    "iris = datasets.load_iris()\n",
    "X = iris.data[:, :2]  # we only take the first two features.\n",
    "Y = iris.target\n",
    "\n",
    "logreg = LogisticRegression(solver='lbfgs', multi_class='multinomial')\n",
    "\n",
    "# Create an instance of Logistic Regression Classifier and fit the data.\n",
    "logreg.fit(X, Y)\n",
    "\n",
    "### PLOTTING ###\n",
    "# Plot the decision boundary. For that, we will assign a color to each\n",
    "# point in the mesh [x_min, x_max]x[y_min, y_max].\n",
    "x_min, x_max = X[:, 0].min() - .5, X[:, 0].max() + .5\n",
    "y_min, y_max = X[:, 1].min() - .5, X[:, 1].max() + .5\n",
    "h = .02  # step size in the mesh\n",
    "xx, yy = np.meshgrid(np.arange(x_min, x_max, h), np.arange(y_min, y_max, h))\n",
    "Z = logreg.predict(np.c_[xx.ravel(), yy.ravel()])\n",
    "\n",
    "# Put the result into a color plot\n",
    "Z = Z.reshape(xx.shape)\n",
    "plt.figure(1, figsize=(15, 10))\n",
    "plt.pcolormesh(xx, yy, Z, cmap=plt.cm.Paired)\n",
    "\n",
    "# Plot also the training points\n",
    "plt.scatter(X[:, 0], X[:, 1], c=Y, edgecolors='k', cmap=plt.cm.Paired)\n",
    "plt.xlabel('Sepal length')\n",
    "plt.ylabel('Sepal width')\n",
    "\n",
    "plt.xlim(xx.min(), xx.max())\n",
    "plt.ylim(yy.min(), yy.max())\n",
    "plt.xticks(())\n",
    "plt.yticks(())\n",
    "\n",
    "plt.show()"
   ]
  },
  {
   "cell_type": "code",
   "execution_count": 16,
   "metadata": {},
   "outputs": [],
   "source": [
    "def target_map(iris_labels):\n",
    "    \"\"\"\n",
    "    :returns: \n",
    "        'setosa' if the label is 0\n",
    "        'versicolor' if the label is 1\n",
    "        'virginica' if the label is 2\n",
    "    It raises an error in other cases.\n",
    "    \"\"\"\n",
    "    \n",
    "    if iris_labels == 0:\n",
    "        return 'setosa'\n",
    "    elif iris_labels == 1:\n",
    "        return 'versicolor'\n",
    "    elif iris_labels == 2:\n",
    "        return 'virginica'\n",
    "    else:\n",
    "        raise ValueError('Dude! There is an issue in data')\n",
    "        \n",
    "\n",
    "target_map_vec = np.vectorize(target_map) # vectorize() is a numpy method giving a function\n",
    "                                          # the property to be applied to a list"
   ]
  },
  {
   "cell_type": "markdown",
   "metadata": {},
   "source": [
    "#### Multivariable Logistic regression"
   ]
  },
  {
   "cell_type": "markdown",
   "metadata": {},
   "source": [
    "Here, we want to use all the features and predict the kind of iris of a flower having sepal lenght and width `4.7` and `2.9` and petal lenght and width `1.9` and `0.3`."
   ]
  },
  {
   "cell_type": "code",
   "execution_count": 17,
   "metadata": {},
   "outputs": [],
   "source": [
    "# Let's define an array for the test flower\n",
    "iris_test = np.array([4.7, 2.9, 1.9, 0.3]).reshape(1,-1)"
   ]
  },
  {
   "cell_type": "code",
   "execution_count": 18,
   "metadata": {},
   "outputs": [
    {
     "name": "stdout",
     "output_type": "stream",
     "text": [
      "The predicted kind of iris is setosa, with a confidence of 91.81%\n"
     ]
    }
   ],
   "source": [
    "logreg = LogisticRegression(solver='newton-cg', multi_class='multinomial')\n",
    "labY = target_map_vec(Y)\n",
    "logreg.fit(iris.data, labY)\n",
    "iris_pred = logreg.predict(iris_test)\n",
    "confidence = logreg.predict_proba(iris_test).max()\n",
    "\n",
    "print('The predicted kind of iris is %s, with a confidence of %.2f%%' %(iris_pred[0],  confidence*100))"
   ]
  },
  {
   "cell_type": "markdown",
   "metadata": {},
   "source": [
    "Well, we can be quite sure about it. \n",
    "\n",
    "But, let's go in depth and explore a bit more the meaning of the graph above."
   ]
  },
  {
   "cell_type": "markdown",
   "metadata": {},
   "source": [
    "## Decision Boundaries"
   ]
  },
  {
   "cell_type": "markdown",
   "metadata": {},
   "source": [
    "A decision boundary in a nutshell, is a surface that separates data points belonging to different class lables."
   ]
  },
  {
   "cell_type": "markdown",
   "metadata": {},
   "source": [
    "Although apparently simple at first glance, there is quite a lot of useful information to be gleaned from visualising a decision boundary, information that will give you an intuitive grasp of learning models."
   ]
  },
  {
   "cell_type": "markdown",
   "metadata": {},
   "source": [
    "Here, we can try to illustrate the definition of such a (hyper)-surface by an example.\n",
    "\n",
    "Let's suppose we have again the problem of classifying whether our iris test is setosa, or not. This is a so-called _binary classification_, meaning the answer can only be yes/no.\n",
    "As above, we restrict to sepal measures, ignoring petal ones for now.\n",
    "\n",
    "The hypothesis function has the sigmoid form,\n",
    "$$\n",
    "    h_\\beta(x) = g(\\beta_0 + \\beta_1 x_1 + \\beta_2 x_2) \\, .\n",
    "$$\n",
    "\n",
    "Let's use our implementation of gradient descent to predict $\\beta$ parameters."
   ]
  },
  {
   "cell_type": "code",
   "execution_count": 19,
   "metadata": {},
   "outputs": [],
   "source": [
    "# Add the one column to X\n",
    "X = np.hstack((np.ones((X.shape[0],1)), X)) # we add the bias terms, cofactors 1 of β[0]\n",
    "\n",
    "# Recall Y can only be 0 or 1. We binarise our classes.\n",
    "Y_bin = np.array([int(y == 0) for y in Y])\n",
    "\n",
    "# Initialise β\n",
    "beta = np.zeros(X.shape[1])\n",
    "\n",
    "beta, cost, betaList, iterations = gradientDescent(beta, X, Y_bin)"
   ]
  },
  {
   "cell_type": "code",
   "execution_count": 20,
   "metadata": {},
   "outputs": [
    {
     "data": {
      "text/plain": [
       "array([ 0.98738777, -3.42012037,  5.57638438])"
      ]
     },
     "execution_count": 20,
     "metadata": {},
     "output_type": "execute_result"
    }
   ],
   "source": [
    "#print β to verify\n",
    "beta"
   ]
  },
  {
   "cell_type": "markdown",
   "metadata": {},
   "source": [
    "So we have predicted the following parameters \n",
    "\n",
    "\\begin{align}\n",
    "    \\beta_0 = 0.9874\\, , && \\beta_1 = -3.4201\\, , && \\beta_2 = 5.5764\\, .\n",
    "\\end{align}"
   ]
  },
  {
   "cell_type": "markdown",
   "metadata": {},
   "source": [
    "Recall, as before the prediction is $y=1$ if and only if $h_\\beta(x) \\geq 0.5$ and this is equivalent to $\\beta X \\geq 0$.\n",
    "\n",
    "In our case, we have the inequation\n",
    "\n",
    "$$ \\beta_0 + \\beta_1 x_1 + \\beta_2 x_2 \\geq 0$$\n",
    "\n",
    "Meaning all the points in a $(x_1, x_2)$ plan satisying such inequation are points whose prediction is $y=1$. Viceversa, the remaining region of the plan is made by points having predicted $y = 0$."
   ]
  },
  {
   "cell_type": "markdown",
   "metadata": {},
   "source": [
    "The inequation is linear, this implies the curve delimiting the two regions ($y=1$ and $y=0$) is a line.\n",
    "\n",
    "Let's put our data on a graph and plot the line of equation $ x_2 = - \\tfrac{1}{\\beta_2}(\\beta_1 x_1 +\\beta_0) $."
   ]
  },
  {
   "cell_type": "code",
   "execution_count": 21,
   "metadata": {},
   "outputs": [
    {
     "data": {
      "image/png": "[encoded data removed]",
      "text/plain": [
       "<Figure size 1080x720 with 1 Axes>"
      ]
     },
     "metadata": {},
     "output_type": "display_data"
    }
   ],
   "source": [
    "plt.figure(figsize=(15,10))\n",
    "\n",
    "x = np.linspace(4,8,100)\n",
    "y = -(1/beta[2])*(beta[1]*x + beta[0]) # decision boundary equation\n",
    "\n",
    "plt.plot(x, y, '--g', label='decision boundary')\n",
    "plt.scatter(X[Y_bin==1,1], X[Y_bin==1,2], c='red', label = 'Iris Setosa')\n",
    "plt.scatter(X[Y_bin==0,1], X[Y_bin==0,2], c='blue', label = 'Other variety')\n",
    "\n",
    "plt.title('Graph of decision boundary')\n",
    "plt.xlabel('sepal length', color='#1C2833')\n",
    "plt.ylabel('sepal width', color='#1C2833')\n",
    "plt.legend(loc='upper left')\n",
    "\n",
    "plt.grid()\n",
    "plt.show()"
   ]
  },
  {
   "cell_type": "markdown",
   "metadata": {},
   "source": [
    "A graphical animation of what we have done can be shown as follows"
   ]
  },
  {
   "cell_type": "markdown",
   "metadata": {},
   "source": [
    "![title](https://miro.medium.com/max/1400/1*PQ8tdohapfm-YHlrRIRuOA.gif)"
   ]
  },
  {
   "cell_type": "markdown",
   "metadata": {},
   "source": [
    "### Non-Linear decision boundaries"
   ]
  },
  {
   "cell_type": "markdown",
   "metadata": {},
   "source": [
    "To conclude this section about decision boundary, let's take into account the case where the argument of sigmoid function is not a linear function."
   ]
  },
  {
   "cell_type": "markdown",
   "metadata": {},
   "source": [
    "For instance,\n",
    "\n",
    "$$ h_\\beta(x) = g(\\beta^T X) = g(\\beta_0 + \\beta_1 x_1 + \\beta_2 x_2 + \\beta_3 x_1^2 + \\beta_4 x_2^2 + \\ldots) \\, .$$"
   ]
  },
  {
   "cell_type": "markdown",
   "metadata": {},
   "source": [
    "This function describe the test of some microchip in a production chain.\n",
    "Features $x_1$ and $x_2$ are the score results of the test respectively on two microchips."
   ]
  },
  {
   "cell_type": "markdown",
   "metadata": {},
   "source": [
    "Let's load the data in a dataframe."
   ]
  },
  {
   "cell_type": "code",
   "execution_count": 22,
   "metadata": {},
   "outputs": [],
   "source": [
    "df_nonlin = pd.read_csv('Data/LogisticReg/data2.txt', header=None)\n",
    "df_nonlin.columns = ['x1', 'x2', 'label']"
   ]
  },
  {
   "cell_type": "code",
   "execution_count": 23,
   "metadata": {},
   "outputs": [],
   "source": [
    "X = df_nonlin.iloc[:,:-1]\n",
    "y = df_nonlin.iloc[:,2]"
   ]
  },
  {
   "cell_type": "markdown",
   "metadata": {},
   "source": [
    "We can produce a plot to visualise data."
   ]
  },
  {
   "cell_type": "code",
   "execution_count": 24,
   "metadata": {},
   "outputs": [
    {
     "data": {
      "image/png": "[encoded data removed]",
      "text/plain": [
       "<Figure size 1080x720 with 1 Axes>"
      ]
     },
     "metadata": {},
     "output_type": "display_data"
    }
   ],
   "source": [
    "pos = (y == 1)\n",
    "neg = (y == 0)\n",
    "\n",
    "passed = plt.scatter(X[pos]['x1'].values, X[pos]['x2'].values)\n",
    "failed = plt.scatter(X[neg]['x1'].values, X[neg]['x2'].values)\n",
    "plt.xlabel('Microchip Test1')\n",
    "plt.ylabel('Microchip Test2')\n",
    "plt.legend((passed, failed), ('Passed', 'Failed'))\n",
    "plt.show()"
   ]
  },
  {
   "cell_type": "markdown",
   "metadata": {},
   "source": [
    "As one can see, the decision boundary will hardly be a straight line."
   ]
  },
  {
   "cell_type": "markdown",
   "metadata": {},
   "source": [
    "As in the case of polynomial regression, we can use the very same function of logistic regression, by performing a _feature mapping_."
   ]
  },
  {
   "cell_type": "code",
   "execution_count": 25,
   "metadata": {},
   "outputs": [],
   "source": [
    "def mapFeature(X1, X2, degree):\n",
    "    out = np.ones(X.shape[0])[:,np.newaxis]\n",
    "    for i in range(1, degree+1):\n",
    "        for j in range(i+1):\n",
    "            out = np.hstack((out, np.multiply(np.power(X1, i-j), np.power(X2, j))[:,np.newaxis]))\n",
    "    return out\n",
    "\n",
    "X = mapFeature(X.iloc[:,0], X.iloc[:,1], degree = 6)"
   ]
  },
  {
   "cell_type": "markdown",
   "metadata": {},
   "source": [
    "Let's perform now gradient descent."
   ]
  },
  {
   "cell_type": "code",
   "execution_count": 26,
   "metadata": {},
   "outputs": [
    {
     "name": "stdout",
     "output_type": "stream",
     "text": [
      "Initial cost should be approximatively 0.69314718\n",
      "Initial cost you calculated is 0.6931472\n"
     ]
    }
   ],
   "source": [
    "# Initialise β\n",
    "beta = np.zeros(X.shape[1])\n",
    "\n",
    "print('Initial cost should be approximatively 0.69314718')\n",
    "print('Initial cost you calculated is %.7f' %costFunction(beta,X,y))"
   ]
  },
  {
   "cell_type": "code",
   "execution_count": 27,
   "metadata": {},
   "outputs": [],
   "source": [
    "betaFit, cost, betaList, iterations = gradientDescent(beta, X, y, regular = 1)"
   ]
  },
  {
   "cell_type": "code",
   "execution_count": 28,
   "metadata": {},
   "outputs": [],
   "source": [
    "def mapFeatureForPlotting(X1, X2, degree):\n",
    "    out = np.ones(1)\n",
    "    for i in range(1, degree+1):\n",
    "        for j in range(i+1):\n",
    "            out = np.hstack((out, np.multiply(np.power(X1, i-j), np.power(X2, j))))\n",
    "    return out"
   ]
  },
  {
   "cell_type": "code",
   "execution_count": 29,
   "metadata": {},
   "outputs": [],
   "source": [
    "def contourPlot(X, y, beta, xlabel = None, ylabel = None, labelLegend = None, degree = 6):\n",
    "    \"\"\"\n",
    "        :return: the contour plot of the \n",
    "    \"\"\"\n",
    "    u = np.linspace(-1, 1.5, 50)\n",
    "    v = np.linspace(-1, 1.5, 50)\n",
    "    z = np.zeros((len(u), len(v)))\n",
    "    \n",
    "    for i in range(len(u)):\n",
    "        for j in range(len(v)):\n",
    "            z[i,j] = np.dot(mapFeatureForPlotting(u[i], v[j], degree = degree), beta)\n",
    "            \n",
    "    pos = y.values.flatten() == 1\n",
    "    neg = y.values.flatten() == 0\n",
    "    \n",
    "    positive = plt.scatter(X[pos]['x1'], X[pos]['x2'])\n",
    "    negative = plt.scatter(X[neg]['x1'], X[neg]['x2'])\n",
    "    plt.contour(u,v,z,0)\n",
    "    \n",
    "    if xlabel is not None:\n",
    "        plt.xlabel(xlabel)\n",
    "    if ylabel is not None:\n",
    "        plt.ylabel(ylabel)\n",
    "        \n",
    "    if labelLegend is not None:\n",
    "        plt.legend((positive, negative), labelLegend)\n",
    "    plt.show()"
   ]
  },
  {
   "cell_type": "code",
   "execution_count": 30,
   "metadata": {},
   "outputs": [
    {
     "data": {
      "image/png": "[encoded data removed]",
      "text/plain": [
       "<Figure size 1080x720 with 1 Axes>"
      ]
     },
     "metadata": {},
     "output_type": "display_data"
    }
   ],
   "source": [
    "X_plot = df_nonlin.iloc[:,:-1]\n",
    "contourPlot(X_plot, y, betaFit, xlabel='Microchip Test 1', ylabel='Microchip Test 2', labelLegend=('Passed', 'Failed'))"
   ]
  },
  {
   "cell_type": "markdown",
   "metadata": {},
   "source": [
    "## Exercise"
   ]
  },
  {
   "cell_type": "markdown",
   "metadata": {},
   "source": [
    "In this exercise, you will build a logistic regression model to predict whether a student gets admitted into a university."
   ]
  },
  {
   "cell_type": "markdown",
   "metadata": {},
   "source": [
    "Suppose that you are the administrator of a university department and you want to determine each applicant’s chance of admission based on their results on two exams. You have historical data from previous applicants that you can use as a training set for logistic regression. For each training example, you have the applicant’s scores on two exams and the admissions decision."
   ]
  },
  {
   "cell_type": "markdown",
   "metadata": {},
   "source": [
    "Your task is to build a classification model that estimates an applicant’s probability of admission based the scores from those two exams."
   ]
  },
  {
   "cell_type": "markdown",
   "metadata": {},
   "source": [
    "#### Visualising data"
   ]
  },
  {
   "cell_type": "markdown",
   "metadata": {},
   "source": [
    "We start by importing and plotting the given data:"
   ]
  },
  {
   "cell_type": "code",
   "execution_count": 31,
   "metadata": {},
   "outputs": [
    {
     "data": {
      "text/html": [
       "<div>\n",
       "<style scoped>\n",
       "    .dataframe tbody tr th:only-of-type {\n",
       "        vertical-align: middle;\n",
       "    }\n",
       "\n",
       "    .dataframe tbody tr th {\n",
       "        vertical-align: top;\n",
       "    }\n",
       "\n",
       "    .dataframe thead th {\n",
       "        text-align: right;\n",
       "    }\n",
       "</style>\n",
       "<table border=\"1\" class=\"dataframe\">\n",
       "  <thead>\n",
       "    <tr style=\"text-align: right;\">\n",
       "      <th></th>\n",
       "      <th>Exam1_score</th>\n",
       "      <th>Exam2_score</th>\n",
       "      <th>Admission</th>\n",
       "    </tr>\n",
       "  </thead>\n",
       "  <tbody>\n",
       "    <tr>\n",
       "      <th>0</th>\n",
       "      <td>34.623660</td>\n",
       "      <td>78.024693</td>\n",
       "      <td>0</td>\n",
       "    </tr>\n",
       "    <tr>\n",
       "      <th>1</th>\n",
       "      <td>30.286711</td>\n",
       "      <td>43.894998</td>\n",
       "      <td>0</td>\n",
       "    </tr>\n",
       "    <tr>\n",
       "      <th>2</th>\n",
       "      <td>35.847409</td>\n",
       "      <td>72.902198</td>\n",
       "      <td>0</td>\n",
       "    </tr>\n",
       "    <tr>\n",
       "      <th>3</th>\n",
       "      <td>60.182599</td>\n",
       "      <td>86.308552</td>\n",
       "      <td>1</td>\n",
       "    </tr>\n",
       "    <tr>\n",
       "      <th>4</th>\n",
       "      <td>79.032736</td>\n",
       "      <td>75.344376</td>\n",
       "      <td>1</td>\n",
       "    </tr>\n",
       "  </tbody>\n",
       "</table>\n",
       "</div>"
      ],
      "text/plain": [
       "   Exam1_score  Exam2_score  Admission\n",
       "0    34.623660    78.024693          0\n",
       "1    30.286711    43.894998          0\n",
       "2    35.847409    72.902198          0\n",
       "3    60.182599    86.308552          1\n",
       "4    79.032736    75.344376          1"
      ]
     },
     "execution_count": 31,
     "metadata": {},
     "output_type": "execute_result"
    }
   ],
   "source": [
    "# Loading the data. The first two columns contain the exam scores and the third column contains the label.\n",
    "data = pd.read_csv('Data/LogisticReg/data1.txt', header=None)\n",
    "data.columns = ['Exam1_score', 'Exam2_score', 'Admission']\n",
    "\n",
    "# Viewing the imported values (first 5 rows)\n",
    "data.head()"
   ]
  },
  {
   "cell_type": "code",
   "execution_count": 32,
   "metadata": {},
   "outputs": [],
   "source": [
    "# Let's define X, y as arrays\n",
    "x1 = data.Exam1_score\n",
    "x2 = data.Exam2_score\n",
    "y = data.Admission\n",
    "\n",
    "x = np.column_stack([x1, x2])"
   ]
  },
  {
   "cell_type": "code",
   "execution_count": 33,
   "metadata": {},
   "outputs": [],
   "source": [
    "import seaborn; seaborn.set_style('whitegrid') # import seaborn for styles\n",
    "\n",
    "# Creating plotData method to display the figure where the axes are the two exam scores.\n",
    "def plotData(x, y, x1label, x2label, labelPos, labelNeg):\n",
    "    \n",
    "    plt.figure(figsize=(15,10))\n",
    "    # Separating positive and negative scores (in this case 1 and 0 values):\n",
    "    pos = y==1\n",
    "    neg = y==0\n",
    "\n",
    "    # Scatter plotting the data, filtering them according the pos/neg values:\n",
    "    plt.scatter(x[pos, 0], x[pos, 1], s=30, c='darkblue', marker='+', label=labelPos)\n",
    "    plt.scatter(x[neg, 0], x[neg, 1], s=30, c='yellow', marker='o', edgecolors='b', label=labelNeg)\n",
    "\n",
    "    # Labels and limits:\n",
    "    plt.xlabel(x1label)\n",
    "    plt.ylabel(x2label)\n",
    "    plt.xlim(x[:, 0].min()-5, x[:, 0].max()+5)\n",
    "    plt.ylim(x[:, 1].min()-5, x[:, 1].max()+5)\n",
    "\n",
    "    # Legend:\n",
    "    pst = plt.legend(loc='upper right', frameon=True)\n",
    "    pst.get_frame().set_edgecolor('k');"
   ]
  },
  {
   "cell_type": "code",
   "execution_count": 34,
   "metadata": {},
   "outputs": [
    {
     "data": {
      "image/png": "[encoded data removed]",
      "text/plain": [
       "<Figure size 1080x720 with 1 Axes>"
      ]
     },
     "metadata": {},
     "output_type": "display_data"
    }
   ],
   "source": [
    "# Plotting the initial figure:\n",
    "plotData(x, y, 'Exam 1 score', 'Exam 2 score', 'Admitted', 'Not Admitted')"
   ]
  },
  {
   "cell_type": "markdown",
   "metadata": {},
   "source": [
    "#### Exercise: find and plot the decision boundary for the dataset above"
   ]
  },
  {
   "cell_type": "markdown",
   "metadata": {},
   "source": [
    "We add an additional first column to X and set it to all ones. Also, we add theta and initialize the parameters to 0's."
   ]
  },
  {
   "cell_type": "code",
   "execution_count": 35,
   "metadata": {},
   "outputs": [
    {
     "data": {
      "text/plain": [
       "array([0., 0., 0.])"
      ]
     },
     "execution_count": 35,
     "metadata": {},
     "output_type": "execute_result"
    }
   ],
   "source": [
    "X = np.hstack((np.ones((x.shape[0],1)), x))\n",
    "\n",
    "# initialise beta to zero.\n",
    "beta = np.zeros(X.shape[1])\n",
    "beta"
   ]
  },
  {
   "cell_type": "markdown",
   "metadata": {},
   "source": [
    "We call `costFunction` and `gradientFunc` methods using the initial parameters of $\\beta$."
   ]
  },
  {
   "cell_type": "code",
   "execution_count": 36,
   "metadata": {},
   "outputs": [
    {
     "name": "stdout",
     "output_type": "stream",
     "text": [
      "Your calculated cost: 0.693\n",
      "You should see that the cost is about 0.693 \n",
      "\n",
      "Gradient: [ -0.1        -12.00921659 -11.26284221]\n"
     ]
    }
   ],
   "source": [
    "J = costFunction(beta, X, y)\n",
    "gradient = gradientFunc(beta, X, y)\n",
    "\n",
    "# We should see that the cost is about 0.693 for this exercise:\n",
    "print(\"Your calculated cost: %0.3f\"%(J))\n",
    "print('You should see that the cost is about 0.693 \\n')\n",
    "print(\"Gradient: {0}\".format(gradient))"
   ]
  },
  {
   "cell_type": "code",
   "execution_count": 37,
   "metadata": {},
   "outputs": [],
   "source": [
    "# Let us find the fit parameters for our data\n",
    "from scipy.optimize import minimize\n",
    "\n",
    "res = minimize(costFunction, beta, args=(X,y), method=None, jac=gradientFunc, options={'maxiter':400})"
   ]
  },
  {
   "cell_type": "code",
   "execution_count": 38,
   "metadata": {},
   "outputs": [],
   "source": [
    "betaFit = res.x"
   ]
  },
  {
   "cell_type": "code",
   "execution_count": 39,
   "metadata": {},
   "outputs": [
    {
     "name": "stdout",
     "output_type": "stream",
     "text": [
      "your calculated fit parameters [-25.16133643   0.20623177   0.2014716 ]\n",
      "you should obtain: [-25.16133643,   0.20623177,   0.2014716 ])\n"
     ]
    }
   ],
   "source": [
    "print('your calculated fit parameters %s' %betaFit)\n",
    "print('you should obtain: [-25.16133643,   0.20623177,   0.2014716 ])')"
   ]
  },
  {
   "cell_type": "markdown",
   "metadata": {},
   "source": [
    "We are ready to plot the (linear) decision boundary"
   ]
  },
  {
   "cell_type": "code",
   "execution_count": 40,
   "metadata": {},
   "outputs": [
    {
     "data": {
      "image/png": "[encoded data removed]",
      "text/plain": [
       "<Figure size 1080x720 with 1 Axes>"
      ]
     },
     "metadata": {},
     "output_type": "display_data"
    }
   ],
   "source": [
    "plt.figure(figsize=(15,10))\n",
    "# Separating positive and negative scores (in this case 1 and 0 values):\n",
    "pos = y==1\n",
    "neg = y==0\n",
    "\n",
    "t = np.linspace(30,100, 1000)\n",
    "z = -(1/betaFit[2])*(betaFit[1]*t + betaFit[0]) # linear decision boundary equation\n",
    "\n",
    "# plot decision boundary\n",
    "plt.plot(t, z, '--g', label='decision boundary')\n",
    "# Scatter plotting the data, filtering them according the pos/neg values:\n",
    "plt.scatter(x[pos, 0], x[pos, 1], s=30, c='darkblue', marker='+', label='Admitted')\n",
    "plt.scatter(x[neg, 0], x[neg, 1], s=30, c='yellow', marker='o', edgecolors='b', label='Not Admitted')\n",
    "plt.scatter(45.7, 85, s=60, c= 'red', marker = 'v', label = 'Alice')\n",
    "\n",
    "# Labels and limits:\n",
    "plt.xlabel('Exam 1 score')\n",
    "plt.ylabel('Exam 2 score')\n",
    "plt.xlim(x[:, 0].min()-5, x[:, 0].max()+5)\n",
    "plt.ylim(x[:, 1].min()-5, x[:, 1].max()+5)\n",
    "\n",
    "# Legend:\n",
    "pst = plt.legend(loc='upper right', frameon=True)\n",
    "pst.get_frame().set_edgecolor('k');"
   ]
  },
  {
   "cell_type": "markdown",
   "metadata": {},
   "source": [
    "#### Find the admission probability for a test student"
   ]
  },
  {
   "cell_type": "markdown",
   "metadata": {},
   "source": [
    "Let's now predict the admission result of Alice, a student having a score vector in two exams as\n",
    "```python\n",
    "x1 = 45.7 \n",
    "x2 = 85.0\n",
    "```"
   ]
  },
  {
   "cell_type": "code",
   "execution_count": 41,
   "metadata": {},
   "outputs": [],
   "source": [
    "# Exam scores for Alice\n",
    "x1Alice = 45.7\n",
    "x2Alice = 85.0\n",
    "\n",
    "xAlice = np.column_stack([x1Alice, x2Alice])\n",
    "XAlice = np.hstack((np.ones((xAlice.shape[0],1)), xAlice)) # we add the intercept cofactors 1"
   ]
  },
  {
   "cell_type": "code",
   "execution_count": 42,
   "metadata": {},
   "outputs": [],
   "source": [
    "def pred(X, beta):\n",
    "    hBetaX = sigmoid(np.dot(X, beta))\n",
    "    if hBetaX < 0 or hBetaX > 1:\n",
    "        raise ValueError(\"Hypothesis function value out of range.\")\n",
    "        \n",
    "    if hBetaX >= 0.5:\n",
    "        y = 1\n",
    "    else:\n",
    "        y = 0\n",
    "\n",
    "    return y"
   ]
  },
  {
   "cell_type": "code",
   "execution_count": 43,
   "metadata": {},
   "outputs": [],
   "source": [
    "# Let us define the model to use sklearn for comparison\n",
    "model = LogisticRegression(solver = 'liblinear').fit(X, y)"
   ]
  },
  {
   "cell_type": "code",
   "execution_count": 44,
   "metadata": {},
   "outputs": [
    {
     "name": "stdout",
     "output_type": "stream",
     "text": [
      "Your prediction for Alice:  1\n",
      "You should get:  1\n"
     ]
    }
   ],
   "source": [
    "# Prediction for Alice\n",
    "print('Your prediction for Alice: ', pred(XAlice, betaFit))\n",
    "print('You should get: ', model.predict(XAlice)[0])"
   ]
  },
  {
   "cell_type": "markdown",
   "metadata": {},
   "source": [
    "Now, as before, we can give a score of confidence to our prediction, thanks to probability."
   ]
  },
  {
   "cell_type": "code",
   "execution_count": 45,
   "metadata": {},
   "outputs": [
    {
     "name": "stdout",
     "output_type": "stream",
     "text": [
      "probability of admission with sklearn: 0.63 %\n",
      "probability of admission with gradient descent: 0.80 %\n"
     ]
    }
   ],
   "source": [
    "print('probability of admission with sklearn: %.2f %%' %model.predict_proba(XAlice)[0][1])\n",
    "print('probability of admission with gradient descent: %.2f %%' %sigmoid(np.dot(XAlice, betaFit)))"
   ]
  },
  {
   "cell_type": "markdown",
   "metadata": {},
   "source": [
    "Why such a difference?\n",
    "\n",
    "Well, `sklearn` performs the best fit for our data. Probably a second degree fit would have been more appropriate to our data. This would bring the decision boundary closer to `xAlice`, and then the probability would be lowered."
   ]
  },
  {
   "cell_type": "markdown",
   "metadata": {},
   "source": [
    "#### Bonus Exercise 1"
   ]
  },
  {
   "cell_type": "markdown",
   "metadata": {},
   "source": [
    "> Try to implement a second degree logistic regression, using `mapFeatures` and `minimize` functions and plot the decision boundary so obtained."
   ]
  },
  {
   "cell_type": "code",
   "execution_count": 46,
   "metadata": {},
   "outputs": [
    {
     "name": "stdout",
     "output_type": "stream",
     "text": [
      "(100, 6)\n"
     ]
    }
   ],
   "source": [
    "X = mapFeature(X[:,1], X[:,2], degree = 2)\n",
    "\n",
    "print(X.shape)"
   ]
  },
  {
   "cell_type": "code",
   "execution_count": 47,
   "metadata": {},
   "outputs": [
    {
     "name": "stderr",
     "output_type": "stream",
     "text": [
      "/usr/local/lib/python3.5/dist-packages/ipykernel_launcher.py:14: RuntimeWarning: divide by zero encountered in log\n",
      "  \n",
      "/usr/local/lib/python3.5/dist-packages/ipykernel_launcher.py:14: RuntimeWarning: divide by zero encountered in log\n",
      "  \n"
     ]
    }
   ],
   "source": [
    "beta_zero = np.zeros(X.shape[1])\n",
    "res = minimize(costFunction, beta_zero, args=(X,y), method=None, jac=gradientFunc, options={'maxiter':400})\n",
    "\n",
    "beta = res.x"
   ]
  },
  {
   "cell_type": "code",
   "execution_count": 48,
   "metadata": {},
   "outputs": [
    {
     "data": {
      "text/plain": [
       "array([ -7.17590232,   3.29119389, -44.57784957,  -0.15916887,\n",
       "         0.64938899,   0.22947932])"
      ]
     },
     "execution_count": 48,
     "metadata": {},
     "output_type": "execute_result"
    }
   ],
   "source": [
    "beta"
   ]
  },
  {
   "cell_type": "code",
   "execution_count": 49,
   "metadata": {},
   "outputs": [],
   "source": [
    "def contourPlot(X, y, beta, xlabel = None, ylabel = None, labelLegend = None, degree = 6):\n",
    "    \"\"\"\n",
    "        :return: the contour plot of the \n",
    "    \"\"\"\n",
    "    u = np.linspace(-1, 15, 100)\n",
    "    v = np.linspace(-1, 15, 100)\n",
    "    z = np.zeros((len(u), len(v)))\n",
    "    \n",
    "    for i in range(len(u)):\n",
    "        for j in range(len(v)):\n",
    "            z[i,j] = np.dot(mapFeatureForPlotting(u[i], v[j], degree = degree), beta)\n",
    "            \n",
    "   # pos = y.values.flatten() == 1\n",
    "   # neg = y.values.flatten() == 0\n",
    "    \n",
    "    #positive = plt.scatter(X[pos]['x1'], X[pos]['x2'])\n",
    "    #negative = plt.scatter(X[neg]['x1'], X[neg]['x2'])\n",
    "    plt.contour(u,v,z,0)\n",
    "    \n",
    "    #if xlabel is not None:\n",
    "     #   plt.xlabel(xlabel)\n",
    "    #if ylabel is not None:\n",
    "     #   plt.ylabel(ylabel)\n",
    "        \n",
    "    #if labelLegend is not None:\n",
    "     #   plt.legend((positive, negative), labelLegend)\n",
    "    plt.show()"
   ]
  },
  {
   "cell_type": "code",
   "execution_count": 50,
   "metadata": {},
   "outputs": [
    {
     "data": {
      "image/png": "[encoded data removed]",
      "text/plain": [
       "<Figure size 576x396 with 1 Axes>"
      ]
     },
     "metadata": {},
     "output_type": "display_data"
    }
   ],
   "source": [
    "contourPlot(X, y, beta, xlabel='Exam 1', ylabel='Exam 2', labelLegend=('Passed', 'Failed'), degree =2)"
   ]
  },
  {
   "cell_type": "code",
   "execution_count": null,
   "metadata": {},
   "outputs": [],
   "source": []
  },
  {
   "cell_type": "markdown",
   "metadata": {},
   "source": [
    "#### Bonus Exercise 2"
   ]
  },
  {
   "cell_type": "markdown",
   "metadata": {},
   "source": [
    "> Why don't we use the squared difference cost function as in the case of linear regression?\n",
    "\n",
    "_Try to answer the question above, by implementing the squared difference cost function for logistic regression, then apply a gradient descent method with this cost function to one of the previous datasets and compare results, possibly with plots._"
   ]
  },
  {
   "cell_type": "code",
   "execution_count": 51,
   "metadata": {},
   "outputs": [],
   "source": [
    "def sqrdiff(beta, X, y):\n",
    "    m = len(y)\n",
    "    \n",
    "    hbetaX = sigmoid(np.dot(X, beta))\n",
    "    \n",
    "    sqrdiffJ = np.dot((hbetaX - y ), (hbetaX - y ))/(2*m)\n",
    "    \n",
    "    return sqrdiffJ"
   ]
  },
  {
   "cell_type": "code",
   "execution_count": 52,
   "metadata": {},
   "outputs": [],
   "source": [
    "data_ex = pd.read_csv('Data/LogisticReg/data1.txt')\n",
    "data_ex.columns = ['x1', 'x2', 'label']"
   ]
  },
  {
   "cell_type": "code",
   "execution_count": 53,
   "metadata": {},
   "outputs": [],
   "source": [
    "x1 = data_ex.x1\n",
    "x2 = data_ex.x2\n",
    "y  = data_ex.label\n",
    "\n",
    "x = np.column_stack([x1, x2])"
   ]
  },
  {
   "cell_type": "code",
   "execution_count": 54,
   "metadata": {},
   "outputs": [],
   "source": [
    "# Add bias terms to X\n",
    "X = np.hstack((np.ones((x.shape[0],1)), x))\n",
    "\n",
    "# Initialise β\n",
    "beta = np.zeros(X.shape[1])"
   ]
  },
  {
   "cell_type": "code",
   "execution_count": 55,
   "metadata": {},
   "outputs": [],
   "source": [
    "def gradDescentSqrDiff(beta, X, y, alpha = .01, max_iterations = 1500, cost_thr = 1e-10):\n",
    "    \n",
    "    m = len(y) # Number of training examples\n",
    "    \n",
    "    cost = []\n",
    "    betaMod = beta.copy()\n",
    "    betaHist = []\n",
    "    \n",
    "    for i in range(max_iterations):                                 # complete here (the student has to write \n",
    "        betaMod = betaMod - (gradientFunc(betaMod, X, y)* alpha)    # down this for-loop)\n",
    "        cost.append(sqrdiff(betaMod, X, y))\n",
    "        betaHist.append(list(betaMod))\n",
    "        # Exit conditions\n",
    "        if cost[i] < cost_thr:\n",
    "            break\n",
    "        if i > 0 and (abs(cost[i] - cost[i-1])/cost[i] < cost_thr):\n",
    "            break\n",
    "        \n",
    "    cost = np.array(cost)\n",
    "    \n",
    "    betaHist = np.array(betaHist)\n",
    "    \n",
    "    return betaMod, cost, betaHist, i"
   ]
  },
  {
   "cell_type": "code",
   "execution_count": 56,
   "metadata": {},
   "outputs": [],
   "source": [
    "beta_prim, J_prim, beta_prim_hist, iterations =  gradDescentSqrDiff(beta, X, y)"
   ]
  },
  {
   "cell_type": "code",
   "execution_count": 62,
   "metadata": {},
   "outputs": [
    {
     "data": {
      "text/plain": [
       "array([ 0.12305389, -0.08367822,  0.36913323, ...,  0.25128666,\n",
       "        0.04455281,  0.48647579])"
      ]
     },
     "execution_count": 62,
     "metadata": {},
     "output_type": "execute_result"
    }
   ],
   "source": [
    "beta_prim_hist[:,1]"
   ]
  },
  {
   "cell_type": "code",
   "execution_count": 68,
   "metadata": {
    "scrolled": true
   },
   "outputs": [
    {
     "data": {
      "image/png": "[encoded data removed]",
      "text/plain": [
       "<Figure size 576x396 with 1 Axes>"
      ]
     },
     "metadata": {},
     "output_type": "display_data"
    }
   ],
   "source": [
    "# Plot the cost as function of number of iterations\n",
    "plt.plot(beta_prim_hist[:,1], J_prim, label = 'Cost function')\n",
    "\n",
    "# Plot limits\n",
    "plt.xlim(0,1) # I take only the first 100 iterations for the sake of clarity\n",
    "plt.ylim(J_prim.min()-1e-2, J_prim.max()+1e-2)\n",
    "\n",
    "# Axis names\n",
    "plt.xlabel('Number of iterations')\n",
    "plt.ylabel('J')\n",
    "\n",
    "# Legend\n",
    "pst = plt.legend(loc='upper right', frameon=True)\n",
    "pst.get_frame().set_edgecolor('k');"
   ]
  },
  {
   "cell_type": "markdown",
   "metadata": {},
   "source": [
    "This function is not [convex](https://en.wikipedia.org/wiki/Convex_function)!\n",
    "\n",
    "It might happen you end in a local minimum. We use convex functions since there is a mathematical theorem in real analysis stating that in an interval, a convex function always has extremal points - _i.e._ a maximum and a minimum.\n",
    "\n"
   ]
  },
  {
   "cell_type": "markdown",
   "metadata": {},
   "source": [
    "## Further readings"
   ]
  },
  {
   "cell_type": "markdown",
   "metadata": {},
   "source": [
    "A simple introduction to logistic regression can be found [here](https://towardsdatascience.com/introduction-to-logistic-regression-66248243c148).\n",
    "\n",
    "Nice github projects on implementation of such techniques can be found [here](https://github.com/sagarmk/Logistic-regression-from-scratch) and [here](https://github.com/AntoineGuillot2/Logistic-Regression-Python/blob/master/LogisticReg.py).\n",
    "\n",
    "Finally, a non-trivial example with categorical encoder and visualisation is available in this [article](https://towardsdatascience.com/building-a-logistic-regression-in-python-step-by-step-becd4d56c9c8)."
   ]
  }
 ],
 "metadata": {
  "kernelspec": {
   "display_name": "Python 3",
   "language": "python",
   "name": "python3"
  },
  "language_info": {
   "codemirror_mode": {
    "name": "ipython",
    "version": 3
   },
   "file_extension": ".py",
   "mimetype": "text/x-python",
   "name": "python",
   "nbconvert_exporter": "python",
   "pygments_lexer": "ipython3",
   "version": "3.5.2"
  }
 },
 "nbformat": 4,
 "nbformat_minor": 2
}
