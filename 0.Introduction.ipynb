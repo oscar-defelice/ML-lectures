{
 "cells": [
  {
   "cell_type": "markdown",
   "metadata": {},
   "source": [
    "# Introduction"
   ]
  },
  {
   "cell_type": "markdown",
   "metadata": {},
   "source": [
    "Here we present a brief introduction to __machine learning__.\n",
    "\n",
    "To start, we give a definition of machine learning"
   ]
  },
  {
   "cell_type": "markdown",
   "metadata": {},
   "source": [
    "> __Well-posed Learning Problem__: A computer program is said to _learn_ from experience $E$ with respect to some task $T$ and some performance measure $P$, if its performance on $T$, as measured by $P$, improves with experience $E$."
   ]
  },
  {
   "cell_type": "markdown",
   "metadata": {},
   "source": [
    "In other words, we say a computer learns to perform a task thanks to the experience."
   ]
  },
  {
   "cell_type": "markdown",
   "metadata": {},
   "source": [
    "Suppose your email program watches which emails you do or do not mark as spam, and based on that learns how to better filter spam. What is the task T in this setting?\n",
    "\n",
    "* Classifying emails as spam or not spam.\n",
    "* Watching you label emails as spam or not spam.\n",
    "* The number (or fraction) of emails correctly classified as spam/not spam.\n",
    "* None of the above—this is not a machine learning problem."
   ]
  },
  {
   "cell_type": "markdown",
   "metadata": {},
   "source": [
    "## Machine Learning algoritms"
   ]
  },
  {
   "cell_type": "markdown",
   "metadata": {},
   "source": [
    "Machine Learning algorithm can be split in two big classes:\n",
    "\n",
    "1. Supervised learning\n",
    "2. Unsupervised learning\n",
    "\n",
    "There are others (recommender systems, reinforcement learning, etc.), but in our discussion they can be considered marginal."
   ]
  },
  {
   "cell_type": "markdown",
   "metadata": {},
   "source": [
    "### Supervised Learning"
   ]
  },
  {
   "cell_type": "markdown",
   "metadata": {},
   "source": [
    "__Example__: Housing price prediction\n",
    "\n",
    "![title](https://www.researchgate.net/profile/Ahmad_Al_Musawi/publication/323108787/figure/fig4/AS:592692094455810@1518320215663/Housing-price-prediction.png)\n",
    "\n"
   ]
  },
  {
   "cell_type": "markdown",
   "metadata": {},
   "source": [
    "We want to say how much will cost a house sized - for instance - $750$ ft$^2$. \n",
    "\n",
    "We have at our disposal, the __right answers__ (_i.e._ the prices) for several data points, from this we perform a so-called _regression_ (_i.e._ the prediction of continuos outputs).\n",
    "The presence of __right answers__ or __labels__ in our dataset makes this a supervised learning algorithm."
   ]
  },
  {
   "cell_type": "markdown",
   "metadata": {},
   "source": [
    "### Unsupervised Learning"
   ]
  },
  {
   "cell_type": "markdown",
   "metadata": {},
   "source": [
    "![title](https://lakshaysuri.files.wordpress.com/2017/03/sup-vs-unsup.png?w=648)"
   ]
  },
  {
   "cell_type": "markdown",
   "metadata": {},
   "source": [
    "The main difference between supervised and unsupervised learning is the presence (or absence) of labels to datasets.\n",
    "The most important example of unsupervised learning algorithm are the clustering algorithms, trying to classify and group data in clusters."
   ]
  },
  {
   "cell_type": "markdown",
   "metadata": {},
   "source": [
    "Of the following examples, which would you address using an unsupervised learning algorithm?\n",
    "\n",
    "1. Given email labeled as spam/not spam, learn a spam filter.\n",
    "2. Given a set of news articles found on the web, group them into set of articles about the same story.\n",
    "3. Given a database of customer data, automatically discover market segments and group customers into different market segments.\n",
    "4. Given a dataset of patients diagnosed as either having diabetes or not, learn to classify new patients as having diabetes or not."
   ]
  },
  {
   "cell_type": "code",
   "execution_count": 2,
   "metadata": {},
   "outputs": [
    {
     "data": {
      "text/html": [
       "<iframe width=\"990\" height=\"720\" src=\"https://prezi.com/view/P0IKLSeFVsCTMMkmhMZk/embed\" frameborder=\"0\" allowfullscreen></iframe>"
      ],
      "text/plain": [
       "<IPython.core.display.HTML object>"
      ]
     },
     "execution_count": 2,
     "metadata": {},
     "output_type": "execute_result"
    }
   ],
   "source": [
    "from IPython.display import HTML\n",
    "\n",
    "# prezi\n",
    "HTML('<iframe width=\"990\" height=\"720\" src=\"https://prezi.com/view/P0IKLSeFVsCTMMkmhMZk/embed\" frameborder=\"0\" allowfullscreen></iframe>')\n"
   ]
  },
  {
   "cell_type": "markdown",
   "metadata": {},
   "source": [
    "# Few Concepts of Statistics"
   ]
  },
  {
   "cell_type": "markdown",
   "metadata": {},
   "source": [
    "The aim of this section (with no surprise) is to introduce the basic concepts of statistics.\n",
    "In particular we are going to focus very rapidly on the basics (random variables, distributions, etc.), applying the hopefully previous knowledge to some exercise, then we move forward to the theoretical basis of machine learning, _i.e._ Statistical inference.\n",
    "\n",
    "Hence, we can summmarise the content of this section,\n",
    "\n",
    "* Basics\n",
    " - Probability measure\n",
    " - Random variables\n",
    " - Distributions\n",
    " - Mean, median, variance\n",
    "* Relations between quantitites\n",
    " - Correlation\n",
    " - Linear regression\n",
    " - General laws of regression\n",
    "* Statistical inference\n",
    " - Bayesian inference\n",
    " - Frequentist inference"
   ]
  },
  {
   "cell_type": "markdown",
   "metadata": {},
   "source": [
    "## Basics"
   ]
  },
  {
   "cell_type": "markdown",
   "metadata": {},
   "source": [
    "Just to start we give a definition of __statistics__.\n",
    "\n",
    "> Statistics is the discipline that concerns the collection, organization, displaying, analysis, interpretation and presentation of data.\n",
    "\n",
    "In applying statistics to some context, it is conventional to begin with a so-called _statistical population_ or a _statistical model_ to be studied.\n",
    "\n",
    "_e.g._ We want to study among all people in this class, how many are blonde.\n",
    "\n",
    "Two main statistical methods are used in data analysis: __descriptive statistics__, which summarise data from a sample using indexes such as the _mean_ or _standard deviation_, and __inferential statistics__, which draw conclusions from data that are subject to random variation (e.g., observational errors, sampling variation). We will focus on the latter, however, we are going to give a brief description of few useful concepts of the former. \n",
    "\n",
    "Descriptive statistics are most often concerned with two sets of properties of a distribution (sample or population): central tendency (or location) seeks to characterize the distribution's central or typical value, while dispersion (or variability) characterizes the extent to which members of the distribution depart from its center and each other. Inferences on mathematical statistics are made under the framework of probability theory, which deals with the analysis of random phenomena."
   ]
  },
  {
   "cell_type": "code",
   "execution_count": 5,
   "metadata": {},
   "outputs": [
    {
     "data": {
      "text/html": [
       "<iframe id=\"iframe_container\" frameborder=\"0\" webkitallowfullscreen=\"\" mozallowfullscreen=\"\" allowfullscreen=\"\" allow=\"autoplay; fullscreen\" width=\"990\" height=\"720\" src=\"https://prezi.com/embed/xxw5tb6fueqc/?bgcolor=ffffff&amp;lock_to_path=0&amp;autoplay=0&amp;autohide_ctrls=0&amp;landing_data=bHVZZmNaNDBIWnNjdEVENDRhZDFNZGNIUE43MHdLNWpsdFJLb2ZHanI0aTBIeXpGSk1KTXRDSzFJaEZYRE00Sm1BPT0&amp;landing_sign=ms2nKGTS6hwcZtfKj95YmDIqIYsvddwELYxwjm03060\"></iframe>"
      ],
      "text/plain": [
       "<IPython.core.display.HTML object>"
      ]
     },
     "execution_count": 5,
     "metadata": {},
     "output_type": "execute_result"
    }
   ],
   "source": [
    "# prezi\n",
    "HTML('<iframe id=\"iframe_container\" frameborder=\"0\" webkitallowfullscreen=\"\" mozallowfullscreen=\"\" allowfullscreen=\"\" allow=\"autoplay; fullscreen\" width=\"990\" height=\"720\" src=\"https://prezi.com/embed/xxw5tb6fueqc/?bgcolor=ffffff&amp;lock_to_path=0&amp;autoplay=0&amp;autohide_ctrls=0&amp;landing_data=bHVZZmNaNDBIWnNjdEVENDRhZDFNZGNIUE43MHdLNWpsdFJLb2ZHanI0aTBIeXpGSk1KTXRDSzFJaEZYRE00Sm1BPT0&amp;landing_sign=ms2nKGTS6hwcZtfKj95YmDIqIYsvddwELYxwjm03060\"></iframe>')\n"
   ]
  },
  {
   "cell_type": "markdown",
   "metadata": {},
   "source": [
    "## Statistical Inference"
   ]
  },
  {
   "cell_type": "markdown",
   "metadata": {},
   "source": [
    "Statistical inference is the process of using data analysis to deduce properties of an underlying probability distribution. Inferential statistical analysis infers properties of a population, for example by testing hypotheses and deriving estimates. It is assumed that the observed data set is sampled from a larger population.\n",
    "\n",
    "Statistical inference makes propositions about a population, using data drawn from the population with some form of sampling. Given a hypothesis about a population, for which we wish to draw inferences, statistical inference consists of (first) selecting a statistical model of the process that generates the data and (second) deducing propositions from the model."
   ]
  },
  {
   "cell_type": "markdown",
   "metadata": {},
   "source": [
    "### Example"
   ]
  },
  {
   "cell_type": "markdown",
   "metadata": {},
   "source": [
    "With inferential statistics you take that sample data from a small number of people and and try to determine if the data can predict whether the drug will work for everyone (i.e. the population). There are various ways you can do this, from calculating a z-score (z-scores are a way to show where your data would lie in a normal distribution) to post-hoc (advanced) testing.\n",
    "\n",
    "Let's say we want to know the cost of a house. We can make use of inferential statistics in this way: we take data from estate agencies prices. We calculate the average cost per meter squared in the area of our interest. Hence, knowing the size of the house we want, we can get an estimation of its cost."
   ]
  },
  {
   "cell_type": "markdown",
   "metadata": {},
   "source": [
    "![title](https://www.statcrunch.com/grabimageforreport.php?reportid=5647&image_id=386301)"
   ]
  },
  {
   "cell_type": "markdown",
   "metadata": {},
   "source": [
    "#### Further readings\n",
    "\n",
    "[This article](https://statisticsbyjim.com/basics/descriptive-inferential-statistics/) contains istructive examples of inferencial and descriptive statistics."
   ]
  }
 ],
 "metadata": {
  "kernelspec": {
   "display_name": "Python 3",
   "language": "python",
   "name": "python3"
  }
 },
 "nbformat": 4,
 "nbformat_minor": 2
}
