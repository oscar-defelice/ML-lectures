{
 "cells": [
  {
   "cell_type": "markdown",
   "metadata": {},
   "source": [
    "# Introduction"
   ]
  },
  {
   "cell_type": "markdown",
   "metadata": {},
   "source": [
    "Here we present a brief introduction to __machine learning__.\n",
    "\n",
    "To start, we give a definition of machine learning"
   ]
  },
  {
   "cell_type": "markdown",
   "metadata": {},
   "source": [
    "> __Well-posed Learning Problem__: A computer program is said to _learn_ from experience $E$ with respect to some task $T$ and some performance measure $P$, if its performance on $T$, as measured by $P$, improves with experience $E$."
   ]
  },
  {
   "cell_type": "markdown",
   "metadata": {},
   "source": [
    "In other words, we say a computer learns to perform a task thanks to the experience."
   ]
  },
  {
   "cell_type": "markdown",
   "metadata": {},
   "source": [
    "Suppose your email program watches which emails you do or do not mark as spam, and based on that learns how to better filter spam. What is the task T in this setting?\n",
    "\n",
    "1. Classifying emails as spam or not spam.\n",
    "2. Watching you label emails as spam or not spam.\n",
    "3. The number (or fraction) of emails correctly classified as spam/not spam.\n",
    "4. None of the above—this is not a machine learning problem."
   ]
  },
  {
   "cell_type": "markdown",
   "metadata": {},
   "source": [
    "## Machine Learning algoritms"
   ]
  },
  {
   "cell_type": "markdown",
   "metadata": {},
   "source": [
    "Machine Learning algorithm can be split in two big classes:\n",
    "\n",
    "1. Supervised learning\n",
    "2. Unsupervised learning\n",
    "\n",
    "There are others (recommender systems, reinforcement learning, etc.), but in our discussion they can be considered marginal."
   ]
  },
  {
   "cell_type": "markdown",
   "metadata": {},
   "source": [
    "### Supervised Learning"
   ]
  },
  {
   "cell_type": "markdown",
   "metadata": {},
   "source": [
    "__Example__: Housing price prediction\n",
    "\n",
    "![title](https://www.researchgate.net/profile/Ahmad_Al_Musawi/publication/323108787/figure/fig4/AS:592692094455810@1518320215663/Housing-price-prediction.png)\n",
    "\n"
   ]
  },
  {
   "cell_type": "markdown",
   "metadata": {},
   "source": [
    "We want to say how much will cost a house sized - for instance - $750$ ft$^2$. \n",
    "\n",
    "We have at our disposal, the __right answers__ (_i.e._ the prices) for several data points, from this we perform a so-called _regression_ (_i.e._ the prediction of continuos outputs).\n",
    "The presence of __right answers__ or __labels__ in our dataset makes this a supervised learning algorithm."
   ]
  },
  {
   "cell_type": "markdown",
   "metadata": {},
   "source": [
    "### Unsupervised Learning"
   ]
  },
  {
   "cell_type": "markdown",
   "metadata": {},
   "source": [
    "![title](https://lakshaysuri.files.wordpress.com/2017/03/sup-vs-unsup.png?w=648)"
   ]
  },
  {
   "cell_type": "markdown",
   "metadata": {},
   "source": [
    "The main difference between supervised and unsupervised learning is the presence (or absence) of labels to datasets.\n",
    "The most important example of unsupervised learning algorithm are the clustering algorithms, trying to classify and group data in clusters."
   ]
  },
  {
   "cell_type": "markdown",
   "metadata": {},
   "source": [
    "Of the following examples, which would you address using an unsupervised learning algorithm?\n",
    "\n",
    "1. Given email labeled as spam/not spam, learn a spam filter.\n",
    "2. Given a set of news articles found on the web, group them into set of articles about the same story.\n",
    "3. Given a database of customer data, automatically discover market segments and group customers into different market segments.\n",
    "4. Given a dataset of patients diagnosed as either having diabetes or not, learn to classify new patients as having diabetes or not."
   ]
  }
 ],
 "metadata": {
  "kernelspec": {
   "display_name": "Python 3",
   "language": "python",
   "name": "python3"
  },
  "language_info": {
   "codemirror_mode": {
    "name": "ipython",
    "version": 3
   },
   "file_extension": ".py",
   "mimetype": "text/x-python",
   "name": "python",
   "nbconvert_exporter": "python",
   "pygments_lexer": "ipython3",
   "version": "3.5.2"
  }
 },
 "nbformat": 4,
 "nbformat_minor": 2
}
