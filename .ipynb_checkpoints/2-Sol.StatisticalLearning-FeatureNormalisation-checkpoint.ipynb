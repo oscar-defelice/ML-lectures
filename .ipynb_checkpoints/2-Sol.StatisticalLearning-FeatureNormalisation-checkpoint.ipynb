{
 "cells": [
  {
   "cell_type": "markdown",
   "metadata": {},
   "source": [
    "![title](https://pythonawesome.com/content/images/2018/05/scikit-learn.png)"
   ]
  },
  {
   "cell_type": "code",
   "execution_count": 1,
   "metadata": {},
   "outputs": [],
   "source": [
    "# Import libraries we will need in the following\n",
    "import pandas as pd\n",
    "import numpy as np\n",
    "\n",
    "%matplotlib inline\n",
    "import matplotlib.pyplot as plt\n",
    "\n",
    "from sklearn import linear_model"
   ]
  },
  {
   "cell_type": "markdown",
   "metadata": {},
   "source": [
    "# Regression"
   ]
  },
  {
   "cell_type": "markdown",
   "metadata": {},
   "source": [
    "In statistics, several methods to search for relationships among variables goes under the name of __regression__."
   ]
  },
  {
   "cell_type": "markdown",
   "metadata": {},
   "source": [
    "## Linear Regression"
   ]
  },
  {
   "cell_type": "markdown",
   "metadata": {},
   "source": [
    "[Linear regression](https://en.wikipedia.org/wiki/Linear_regression) is a linear approach to determine relationship between two or more quantities."
   ]
  },
  {
   "cell_type": "markdown",
   "metadata": {},
   "source": [
    "For example, we want to study the trend of fuel consumption as a function of the engine capacity, we can collect our measures in a table like the following."
   ]
  },
  {
   "cell_type": "markdown",
   "metadata": {},
   "source": [
    "| Engine capacity (cm$^3$) | Average Consumption (l/100km) |\n",
    "|---|----|\n",
    "| $800$  |  $6$    | \n",
    "| $1000$ |  $7.5$  | \n",
    "| $1100$ |  $8$    | \n",
    "| $1200$ |  $8.7$  | \n",
    "| $1600$ |  $12.4$ | \n",
    "| $2000$ |  $16$   | \n",
    "| $3000$ |  $20$   | \n",
    "| $4500$ |  $28$   | \n",
    "| $\\ldots$ |  $\\ldots$ |"
   ]
  },
  {
   "cell_type": "markdown",
   "metadata": {},
   "source": [
    "Let's transform this into a pandas dataframe for practical purposes."
   ]
  },
  {
   "cell_type": "code",
   "execution_count": 2,
   "metadata": {},
   "outputs": [],
   "source": [
    "# complete\n",
    "measures =  pd.DataFrame({'Consumption_avg': [6, 7.5, 8, 8.7, 12.4, 16, 20, 28], \n",
    "                         'Capacity': [800, 1000, 1100, 1200, 1600, 2000, 3000, 4500]})"
   ]
  },
  {
   "cell_type": "code",
   "execution_count": 3,
   "metadata": {},
   "outputs": [
    {
     "data": {
      "text/html": [
       "<div>\n",
       "<style scoped>\n",
       "    .dataframe tbody tr th:only-of-type {\n",
       "        vertical-align: middle;\n",
       "    }\n",
       "\n",
       "    .dataframe tbody tr th {\n",
       "        vertical-align: top;\n",
       "    }\n",
       "\n",
       "    .dataframe thead th {\n",
       "        text-align: right;\n",
       "    }\n",
       "</style>\n",
       "<table border=\"1\" class=\"dataframe\">\n",
       "  <thead>\n",
       "    <tr style=\"text-align: right;\">\n",
       "      <th></th>\n",
       "      <th>Capacity</th>\n",
       "      <th>Consumption_avg</th>\n",
       "    </tr>\n",
       "  </thead>\n",
       "  <tbody>\n",
       "    <tr>\n",
       "      <th>0</th>\n",
       "      <td>800</td>\n",
       "      <td>6.0</td>\n",
       "    </tr>\n",
       "    <tr>\n",
       "      <th>1</th>\n",
       "      <td>1000</td>\n",
       "      <td>7.5</td>\n",
       "    </tr>\n",
       "    <tr>\n",
       "      <th>2</th>\n",
       "      <td>1100</td>\n",
       "      <td>8.0</td>\n",
       "    </tr>\n",
       "    <tr>\n",
       "      <th>3</th>\n",
       "      <td>1200</td>\n",
       "      <td>8.7</td>\n",
       "    </tr>\n",
       "    <tr>\n",
       "      <th>4</th>\n",
       "      <td>1600</td>\n",
       "      <td>12.4</td>\n",
       "    </tr>\n",
       "    <tr>\n",
       "      <th>5</th>\n",
       "      <td>2000</td>\n",
       "      <td>16.0</td>\n",
       "    </tr>\n",
       "    <tr>\n",
       "      <th>6</th>\n",
       "      <td>3000</td>\n",
       "      <td>20.0</td>\n",
       "    </tr>\n",
       "    <tr>\n",
       "      <th>7</th>\n",
       "      <td>4500</td>\n",
       "      <td>28.0</td>\n",
       "    </tr>\n",
       "  </tbody>\n",
       "</table>\n",
       "</div>"
      ],
      "text/plain": [
       "   Capacity  Consumption_avg\n",
       "0       800              6.0\n",
       "1      1000              7.5\n",
       "2      1100              8.0\n",
       "3      1200              8.7\n",
       "4      1600             12.4\n",
       "5      2000             16.0\n",
       "6      3000             20.0\n",
       "7      4500             28.0"
      ]
     },
     "execution_count": 3,
     "metadata": {},
     "output_type": "execute_result"
    }
   ],
   "source": [
    "measures"
   ]
  },
  {
   "cell_type": "code",
   "execution_count": 4,
   "metadata": {},
   "outputs": [
    {
     "data": {
      "image/png": "[encoded data removed]",
      "text/plain": [
       "<Figure size 1080x720 with 1 Axes>"
      ]
     },
     "metadata": {},
     "output_type": "display_data"
    }
   ],
   "source": [
    "measures.plot(kind='scatter', x = 'Capacity', y = 'Consumption_avg', color='blue', figsize=(15,10))\n",
    "\n",
    "# Insert a trend line\n",
    "x = measures.Capacity\n",
    "y = measures.Consumption_avg\n",
    "z = np.polyfit(x, y, 1)\n",
    "p = np.poly1d(z)\n",
    "plt.plot(x, p(x), \"r--\")\n",
    "plt.show()"
   ]
  },
  {
   "cell_type": "markdown",
   "metadata": {},
   "source": [
    "One can easily see there is a linear trend in our data."
   ]
  },
  {
   "cell_type": "markdown",
   "metadata": {},
   "source": [
    "Apply linear regression to find the average consuption of an engine with `test_capacity = 1800`.\n",
    "Recall you have to reshape X to take into account the intercept terms."
   ]
  },
  {
   "cell_type": "code",
   "execution_count": 5,
   "metadata": {},
   "outputs": [],
   "source": [
    "# complete\n",
    "\n",
    "# reshaping of X\n",
    "X = np.ones((len(x), 2))\n",
    "X[:,1] = x"
   ]
  },
  {
   "cell_type": "code",
   "execution_count": 6,
   "metadata": {},
   "outputs": [
    {
     "name": "stdout",
     "output_type": "stream",
     "text": [
      "Your predicted consumption: 12.7292780749\n",
      "You should get approximatively: 12.73\n"
     ]
    }
   ],
   "source": [
    "test_capacity = 1800\n",
    "# complete\n",
    "model = linear_model.LinearRegression()\n",
    "model.fit(X, y)\n",
    "\n",
    "X_test = np.array([1, test_capacity]).reshape(1, -1)\n",
    "\n",
    "prediction = model.predict(X_test)\n",
    "\n",
    "\n",
    "print('Your predicted consumption: %.10f' %prediction)\n",
    "print('You should get approximatively: 12.73')"
   ]
  },
  {
   "cell_type": "markdown",
   "metadata": {},
   "source": [
    "### Feature normalisation"
   ]
  },
  {
   "cell_type": "markdown",
   "metadata": {},
   "source": [
    "Let's take the functions you defined in the previous notebook for gradient descent and make them run on these data."
   ]
  },
  {
   "cell_type": "code",
   "execution_count": 7,
   "metadata": {},
   "outputs": [],
   "source": [
    "# parameters \n",
    "max_iterations = 1500 \n",
    "alpha = 0.01 # learing rate\n",
    "\n",
    "# adding initial β = (0,0)\n",
    "beta = np.zeros(2)"
   ]
  },
  {
   "cell_type": "code",
   "execution_count": 8,
   "metadata": {},
   "outputs": [],
   "source": [
    "def computeCost(X, y, beta):\n",
    "    \"\"\"\n",
    "        (array of float, array of float, array of float) -> float\n",
    "        \n",
    "        :return: the value of squared-difference cost function.\n",
    "    \"\"\"\n",
    "    n = len(y)\n",
    "    cost = np.dot((np.dot(X,beta) - y ), (np.dot(X,beta) - y ))/(2*n) # complete here\n",
    "    return cost"
   ]
  },
  {
   "cell_type": "markdown",
   "metadata": {},
   "source": [
    "Let's see the value of the cost function"
   ]
  },
  {
   "cell_type": "code",
   "execution_count": 9,
   "metadata": {},
   "outputs": [
    {
     "name": "stdout",
     "output_type": "stream",
     "text": [
      "Your computed cost: 114.1062500000\n",
      "You should get approximatively: 114.106\n"
     ]
    }
   ],
   "source": [
    "print('Your computed cost: %.10f' %computeCost(X,y,beta))\n",
    "print('You should get approximatively: 114.106')"
   ]
  },
  {
   "cell_type": "code",
   "execution_count": 10,
   "metadata": {},
   "outputs": [],
   "source": [
    "# Gradient descent algorithm\n",
    "def gradientDescent(X, y, beta, alpha, max_iterations, cost_thr = 1e-5):\n",
    "    \"\"\"\n",
    "        (array of float, array of float, float, int, [float]) -> array of float, array of float, float\n",
    "        \n",
    "        :return: the following tuple:\n",
    "            - array of parameters beta\n",
    "            - array of beta[1] for each step\n",
    "            - cost function\n",
    "    \"\"\"\n",
    "    \n",
    "    n = len(y)\n",
    "    # cost = np.zeros(max_iterations)\n",
    "    cost = []\n",
    "    betaMod = beta.copy()\n",
    "    # betaHist = np.zeros(max_iterations)\n",
    "    beta0Hist = []\n",
    "    beta1Hist = []\n",
    "    \n",
    "    for i in range(max_iterations):                                             # complete here (the student has to write \n",
    "        betaMod = betaMod - (np.dot(X.T, (np.dot(X, betaMod) - y)) * alpha) / n # down this for-loop)\n",
    "        beta0Hist.append(betaMod[0])\n",
    "        beta1Hist.append(betaMod[1])        \n",
    "        # cost[i] = computeCost(X, y, betaMod)\n",
    "        cost.append(computeCost(X, y, betaMod))\n",
    "        if cost[i] < cost_thr:\n",
    "            break\n",
    "        if i > 0 and (abs(cost[i] - cost[i-1])/cost[i] < cost_thr):\n",
    "            break\n",
    "        \n",
    "    cost = np.array(cost)\n",
    "    beta0Hist = np.array(beta0Hist)\n",
    "    beta1Hist = np.array(beta1Hist)\n",
    "    betaHist = [beta0Hist, beta1Hist]\n",
    "    \n",
    "    return betaMod, betaHist, cost, i"
   ]
  },
  {
   "cell_type": "code",
   "execution_count": 11,
   "metadata": {},
   "outputs": [
    {
     "name": "stderr",
     "output_type": "stream",
     "text": [
      "/usr/local/lib/python3.5/dist-packages/ipykernel_launcher.py:28: RuntimeWarning: invalid value encountered in double_scalars\n",
      "/usr/local/lib/python3.5/dist-packages/ipykernel_launcher.py:21: RuntimeWarning: invalid value encountered in subtract\n"
     ]
    }
   ],
   "source": [
    "betaFit, betaHist, cost, iterations = gradientDescent(X, y, beta, alpha, max_iterations)  "
   ]
  },
  {
   "cell_type": "markdown",
   "metadata": {},
   "source": [
    "You can see there is something weird going on. Some warnings appeared.\n",
    "\n",
    "Let's plot $J(\\beta)$ as function of $\\beta_1$ and of iteration number."
   ]
  },
  {
   "cell_type": "code",
   "execution_count": 12,
   "metadata": {},
   "outputs": [
    {
     "data": {
      "image/png": "[encoded data removed]",
      "text/plain": [
       "<Figure size 1008x360 with 2 Axes>"
      ]
     },
     "metadata": {},
     "output_type": "display_data"
    }
   ],
   "source": [
    "fig = plt.figure(figsize=(14, 5))\n",
    "fig.subplots_adjust(wspace=0.3)\n",
    "ax1 = fig.add_subplot(121)\n",
    "ax2 = fig.add_subplot(122)\n",
    "\n",
    "# Minimization path:\n",
    "ax1.scatter(betaHist[1], cost,  marker='o', s=6)\n",
    "ax1.set_xlabel(r'$\\beta_1$')\n",
    "ax1.set_ylabel(r\"Cost function - $J(\\beta)$\");\n",
    "\n",
    "# Cost-Iterations plot:\n",
    "ax2.scatter(np.arange(len(cost)), cost,  marker='o', s=6)\n",
    "ax2.set_xlabel(\"Iterations\")\n",
    "ax2.set_ylabel(r\"Cost function - $J(\\beta)$\");"
   ]
  },
  {
   "cell_type": "markdown",
   "metadata": {},
   "source": [
    "Definitely, this is not right.\n",
    "\n",
    "Let's try to make predictions and verify the error."
   ]
  },
  {
   "cell_type": "code",
   "execution_count": 13,
   "metadata": {},
   "outputs": [
    {
     "data": {
      "image/png": "[encoded data removed]",
      "text/plain": [
       "<Figure size 864x720 with 1 Axes>"
      ]
     },
     "metadata": {},
     "output_type": "display_data"
    }
   ],
   "source": [
    "def linearFit(value):\n",
    "    return betaFit[0] + betaFit[1] * value\n",
    "\n",
    "plt.rcParams[\"figure.figsize\"] = 12, 10\n",
    "plt.scatter(X[:,1], y, marker='x', c='r', s=20, label='data')\n",
    "plt.plot(X[:, 1], linearFit(X[:, 1]), label='h(x) = %0.2f + %0.2fx'%(betaFit[0], betaFit[1]))\n",
    "plt.xlabel(\"Engine capacity\")\n",
    "plt.ylabel(\"Average consumption\")\n",
    "pst = plt.legend(loc='lower right', frameon=True)\n",
    "pst.get_frame().set_edgecolor('k');"
   ]
  },
  {
   "cell_type": "code",
   "execution_count": 14,
   "metadata": {},
   "outputs": [],
   "source": [
    "# make prediction\n",
    "linFit = linearFit(test_capacity)"
   ]
  },
  {
   "cell_type": "code",
   "execution_count": 15,
   "metadata": {},
   "outputs": [
    {
     "name": "stdout",
     "output_type": "stream",
     "text": [
      "Your predicted consumption with sklearn: 12.7292780749\n",
      "Your predicted consumption with your linearFit: nan\n",
      "You should get approximatively: 12.73\n"
     ]
    }
   ],
   "source": [
    "print('Your predicted consumption with sklearn: %.10f' %prediction)\n",
    "print('Your predicted consumption with your linearFit: %.10f' %linFit)\n",
    "print('You should get approximatively: 12.73')"
   ]
  },
  {
   "cell_type": "markdown",
   "metadata": {},
   "source": [
    "It is clear we have a problem in our method.\n",
    "As confirmed by NaN value, we got for prediction and for relative error."
   ]
  },
  {
   "cell_type": "code",
   "execution_count": 16,
   "metadata": {},
   "outputs": [
    {
     "name": "stdout",
     "output_type": "stream",
     "text": [
      "Relative error: nan%\n"
     ]
    }
   ],
   "source": [
    "print('Relative error: %.2f%%' %(abs(prediction - linFit)*100/prediction))"
   ]
  },
  {
   "cell_type": "markdown",
   "metadata": {},
   "source": [
    "The reason of this weird behaviour is the great difference between ranges of variables.\n",
    "\n",
    "Indeed, the engine capacity varies in a range\n",
    "\n",
    "* $x \\in [800, 4500] $\n",
    "\n",
    "while, the average consumption data belongs to a completely different interval of values\n",
    "\n",
    "* $y \\in [6, 28] $"
   ]
  },
  {
   "cell_type": "markdown",
   "metadata": {},
   "source": [
    "In Machine Learning literature, people overcome this issue with a tecnique called __feature normalisation__.\n",
    "\n",
    "Briefly, we rescale our data such that $x$ and $y$ vary more or less in the same range.\n",
    "\n",
    "This is done by the following redefinition\n",
    "\n",
    "- $x = \\frac{x - \\mu}{\\sigma_x}$\n",
    "\n",
    "These redefinitions make variables range centered in zero."
   ]
  },
  {
   "cell_type": "code",
   "execution_count": 17,
   "metadata": {},
   "outputs": [],
   "source": [
    "mu = np.mean(x)\n",
    "sigma = np.std(x)\n",
    "\n",
    "mu_y = np.mean(y)\n",
    "sigma_y = np.std(y)"
   ]
  },
  {
   "cell_type": "code",
   "execution_count": 18,
   "metadata": {},
   "outputs": [],
   "source": [
    "x_rescaled = (x - mu)/sigma # Normalisation is necessary! \n",
    "\n",
    "# reshaping of X_rescaled\n",
    "X_rescaled = np.ones((len(x_rescaled), 2))\n",
    "X_rescaled[:,1] = x_rescaled"
   ]
  },
  {
   "cell_type": "code",
   "execution_count": 19,
   "metadata": {},
   "outputs": [],
   "source": [
    "y_rescaled = (y - mu_y)/sigma_y"
   ]
  },
  {
   "cell_type": "markdown",
   "metadata": {},
   "source": [
    "Let's now retry to exectute gradient descent."
   ]
  },
  {
   "cell_type": "code",
   "execution_count": 20,
   "metadata": {},
   "outputs": [],
   "source": [
    "# re-initialise parameters \n",
    "max_iterations = 1500 \n",
    "alpha = 0.01 # learing rate\n",
    "\n",
    "# adding initial β = (0,0)\n",
    "beta = np.zeros(2)"
   ]
  },
  {
   "cell_type": "markdown",
   "metadata": {},
   "source": [
    "Calculate quantities"
   ]
  },
  {
   "cell_type": "code",
   "execution_count": 21,
   "metadata": {},
   "outputs": [],
   "source": [
    "betaFit, betaHist, cost, iterations = gradientDescent(X_rescaled, y_rescaled, beta, alpha, max_iterations)  "
   ]
  },
  {
   "cell_type": "markdown",
   "metadata": {},
   "source": [
    "No more nasty warnings."
   ]
  },
  {
   "cell_type": "markdown",
   "metadata": {},
   "source": [
    "Let's proceed with plots and printing results."
   ]
  },
  {
   "cell_type": "code",
   "execution_count": 22,
   "metadata": {},
   "outputs": [
    {
     "data": {
      "image/png": "[encoded data removed]",
      "text/plain": [
       "<Figure size 1008x360 with 2 Axes>"
      ]
     },
     "metadata": {},
     "output_type": "display_data"
    }
   ],
   "source": [
    "fig = plt.figure(figsize=(14, 5))\n",
    "fig.subplots_adjust(wspace=0.3)\n",
    "ax1 = fig.add_subplot(121)\n",
    "ax2 = fig.add_subplot(122)\n",
    "\n",
    "# Minimization path:\n",
    "ax1.scatter(betaHist[1], cost,  marker='o', s=6)\n",
    "ax1.set_xlabel(r'$\\beta_1$')\n",
    "ax1.set_ylabel(r\"Cost function - $J(\\beta)$\");\n",
    "\n",
    "# Cost-Iterations plot:\n",
    "ax2.scatter(np.arange(len(cost)), cost,  marker='o', s=6)\n",
    "ax2.set_xlabel(\"Iterations\")\n",
    "ax2.set_ylabel(r\"Cost function - $J(\\beta)$\");"
   ]
  },
  {
   "cell_type": "markdown",
   "metadata": {},
   "source": [
    "It definitely looks better now.\n",
    "\n",
    "Let's try to make predictions and verify the error."
   ]
  },
  {
   "cell_type": "code",
   "execution_count": 23,
   "metadata": {},
   "outputs": [
    {
     "data": {
      "image/png": "[encoded data removed]",
      "text/plain": [
       "<Figure size 864x720 with 1 Axes>"
      ]
     },
     "metadata": {},
     "output_type": "display_data"
    }
   ],
   "source": [
    "plt.rcParams[\"figure.figsize\"] = 12, 10\n",
    "plt.scatter(X_rescaled[:,1], y_rescaled, marker='x', c='r', s=20, label='data')\n",
    "plt.plot(X_rescaled[:, 1], linearFit(X_rescaled[:, 1]), label='h(x) = %0.2f + %0.2fx'%(betaFit[0], betaFit[1]))\n",
    "plt.xlabel(\"Engine capacity\")\n",
    "plt.ylabel(\"Average consumption\")\n",
    "pst = plt.legend(loc='lower right', frameon=True)\n",
    "pst.get_frame().set_edgecolor('k');"
   ]
  },
  {
   "cell_type": "code",
   "execution_count": 24,
   "metadata": {},
   "outputs": [],
   "source": [
    "# make prediction\n",
    "test_capacity_rescaled = abs(test_capacity - mu)/sigma\n",
    "linFit_rescaled = linearFit(test_capacity_rescaled)\n",
    "linFit = mu_y - (linFit_rescaled*sigma_y)"
   ]
  },
  {
   "cell_type": "code",
   "execution_count": 25,
   "metadata": {},
   "outputs": [
    {
     "name": "stdout",
     "output_type": "stream",
     "text": [
      "Your predicted consumption with sklearn: 12.7292780749\n",
      "Your predicted consumption with your linearFit: 12.7310297616\n",
      "You should get approximatively: 12.73\n"
     ]
    }
   ],
   "source": [
    "print('Your predicted consumption with sklearn: %.10f' %prediction)\n",
    "print('Your predicted consumption with your linearFit: %.10f' %linFit)\n",
    "print('You should get approximatively: 12.73')"
   ]
  },
  {
   "cell_type": "markdown",
   "metadata": {},
   "source": [
    "Definitely better!"
   ]
  },
  {
   "cell_type": "markdown",
   "metadata": {},
   "source": [
    "To conclude let's calculate the relative error"
   ]
  },
  {
   "cell_type": "code",
   "execution_count": 26,
   "metadata": {},
   "outputs": [
    {
     "name": "stdout",
     "output_type": "stream",
     "text": [
      "Relative error: 0.01%\n"
     ]
    }
   ],
   "source": [
    "print('Relative error: %.2f%%' %(abs(prediction - linFit)*100/prediction))"
   ]
  },
  {
   "cell_type": "markdown",
   "metadata": {},
   "source": [
    "We can be satisfied!"
   ]
  },
  {
   "cell_type": "markdown",
   "metadata": {},
   "source": [
    "__Why feature normalisation is not necessary in `sklearn`?__\n",
    "\n",
    "Well, this is one of the reasons why it is useful make use of libraries. `sklearn` contains a lot of cool methods taking care of performing the right normalisation when necessary.\n",
    "\n",
    "In general libraries are faster, more stable and robust than hand-made code. For these reasons, we are going to use use them widely in the next applications. However, it might be useful to understand how a minimisation algorithm works to gain sensibility to possible data-related issues."
   ]
  },
  {
   "cell_type": "markdown",
   "metadata": {},
   "source": [
    "## Excercise"
   ]
  },
  {
   "cell_type": "markdown",
   "metadata": {},
   "source": [
    "Linear regression with multiple variables.\n",
    "\n",
    "Implement the multivariable linear regression.\n",
    "\n",
    "__Note__: the `gradientDescent` function we wrote automatically takes into account multi-dimensional parameters $\\beta$."
   ]
  },
  {
   "cell_type": "code",
   "execution_count": 27,
   "metadata": {},
   "outputs": [],
   "source": [
    "# load data and unpack x1, x2, y\n",
    "data = pd.read_csv('Data/LinearReg/data2.txt', header= None)\n",
    "data.columns = ['Size of the house', 'Number of bedrooms', 'Price']"
   ]
  },
  {
   "cell_type": "code",
   "execution_count": 28,
   "metadata": {},
   "outputs": [],
   "source": [
    "x1 = data['Size of the house']\n",
    "x2 = data['Number of bedrooms']\n",
    "y = data['Price']\n",
    "\n",
    "x = np.column_stack([x1, x2])"
   ]
  },
  {
   "cell_type": "markdown",
   "metadata": {},
   "source": [
    "Let's start by plotting features to determine whether feature normalisation is necessary.\n",
    "\n",
    "__spoiler alert__: YES!"
   ]
  },
  {
   "cell_type": "code",
   "execution_count": 29,
   "metadata": {},
   "outputs": [
    {
     "data": {
      "image/png": "[encoded data removed]",
      "text/plain": [
       "<Figure size 1008x360 with 4 Axes>"
      ]
     },
     "metadata": {},
     "output_type": "display_data"
    }
   ],
   "source": [
    "fig = plt.figure(figsize=(14, 5))\n",
    "fig.subplots_adjust(wspace=0.3)\n",
    "\n",
    "ax1 = fig.add_subplot(121)\n",
    "ax2 = fig.add_subplot(122)\n",
    "\n",
    "# Scatter plots:\n",
    "ax1.scatter(x[:,0], y, marker='x', c='r', alpha=0.5, s=20)\n",
    "ax1.set_xlabel('Sq.ft of house')\n",
    "ax1.set_ylabel('House price')\n",
    "ax1.set_xlim(0, 6000)\n",
    "\n",
    "ax3 = ax1.twiny()\n",
    "ax3.scatter(x[:,1], y, marker='o', c='b', alpha=0.4, s=20)\n",
    "ax3.set_xlabel('Number of bedrooms')\n",
    "ax3.set_xlim(0, 6)\n",
    "\n",
    "# Histograms:\n",
    "ax2.hist(x[:,0], alpha=0.4, edgecolor='b', linewidth=0.8)\n",
    "ax2.set_xlabel('Sq.ft of house')\n",
    "ax2.set_ylabel('Total count')\n",
    "ax2.set_xlim(0, 6000)\n",
    "\n",
    "ax4 = ax2.twiny()\n",
    "ax4.hist(x[:,1], alpha=0.4, color='r', edgecolor='r', linewidth=0.8)\n",
    "ax4.set_xlabel('Number of bedrooms')\n",
    "ax4.set_xlim(0, 6);"
   ]
  },
  {
   "cell_type": "markdown",
   "metadata": {},
   "source": [
    "Defining the feature normalization function:"
   ]
  },
  {
   "cell_type": "code",
   "execution_count": 30,
   "metadata": {},
   "outputs": [],
   "source": [
    "def featureNormalize(X):    \n",
    "    # mean and std. deviation:\n",
    "    mu = np.mean(X, axis=0)\n",
    "    sigma = np.std(X, axis=0)\n",
    "    \n",
    "    X_norm = (X - mu) / sigma\n",
    "    \n",
    "    return X_norm, mu, sigma"
   ]
  },
  {
   "cell_type": "code",
   "execution_count": 31,
   "metadata": {},
   "outputs": [],
   "source": [
    "X_norm, mean, sigma = featureNormalize(x)"
   ]
  },
  {
   "cell_type": "code",
   "execution_count": 32,
   "metadata": {},
   "outputs": [
    {
     "data": {
      "image/png": "[encoded data removed]",
      "text/plain": [
       "<Figure size 504x360 with 1 Axes>"
      ]
     },
     "metadata": {},
     "output_type": "display_data"
    }
   ],
   "source": [
    "fig = plt.figure(figsize=(7, 5))\n",
    "\n",
    "# Histograms:\n",
    "plt.hist(X_norm[:,0], alpha=0.4, edgecolor='b', linewidth=0.8, label='sq.ft')\n",
    "plt.hist(X_norm[:,1], alpha=0.4, color='r', edgecolor='r', linewidth=0.8, label='bedrooms')\n",
    "plt.xlabel('Features normalized')\n",
    "plt.ylabel('Total count')\n",
    "plt.xlim(-4, 4)\n",
    "pst = plt.legend(loc='best', frameon=True)\n",
    "pst.get_frame().set_edgecolor('k');"
   ]
  },
  {
   "cell_type": "code",
   "execution_count": 33,
   "metadata": {},
   "outputs": [],
   "source": [
    "X = np.hstack((np.ones((x.shape[0],1)), x)) # Recall we have to add the 1 column to X array.\n",
    "X_norm = np.hstack((np.ones((X_norm.shape[0],1)), X_norm)) # Recall we have to add the 1 column to X array."
   ]
  },
  {
   "cell_type": "markdown",
   "metadata": {},
   "source": [
    "We can now add $\\beta$ and calculate the gradient descent for multi parameters:"
   ]
  },
  {
   "cell_type": "code",
   "execution_count": 34,
   "metadata": {},
   "outputs": [],
   "source": [
    "# initialising β\n",
    "beta = np.zeros(3)\n",
    "\n",
    "# calculating gradient descent\n",
    "betaFit, betaHist, cost, iterations = gradientDescent(X_norm, y, beta, alpha, max_iterations)"
   ]
  },
  {
   "cell_type": "code",
   "execution_count": 35,
   "metadata": {},
   "outputs": [
    {
     "name": "stdout",
     "output_type": "stream",
     "text": [
      "Your calculated values: 340203.96607, 107188.40576, -4319.93397\n",
      "You should obtain approximatively these parameter values: 340204, 107188, -4320\n"
     ]
    }
   ],
   "source": [
    "print('Your calculated values: %.5f, %.5f, %.5f' %(betaFit[0], betaFit[1], betaFit[2]) )\n",
    "print('You should obtain approximatively these parameter values: 340204, 107188, -4320' )"
   ]
  },
  {
   "cell_type": "markdown",
   "metadata": {},
   "source": [
    "### Learning rates"
   ]
  },
  {
   "cell_type": "markdown",
   "metadata": {},
   "source": [
    "Testing multiple learning rates, and plotting the cost for each learning rate per the iterations:"
   ]
  },
  {
   "cell_type": "code",
   "execution_count": 36,
   "metadata": {},
   "outputs": [
    {
     "data": {
      "image/png": "[encoded data removed]",
      "text/plain": [
       "<Figure size 504x360 with 1 Axes>"
      ]
     },
     "metadata": {},
     "output_type": "display_data"
    }
   ],
   "source": [
    "learningRates = [0.3, 0.1, 0.03, 0.01, 0.003, 0.001]\n",
    "\n",
    "fig, ax = plt.subplots(figsize=(7, 5))\n",
    "\n",
    "for alpha in learningRates:\n",
    "    betaFitNew, betaHistNew, costNew, iterations = gradientDescent(X_norm, y, beta, alpha, max_iterations=50) \n",
    "    \n",
    "    ax.plot(costNew, label='alpha = {0}'.format(alpha))\n",
    "\n",
    "ax.set_ylabel(r\"Cost function - $J(\\theta)$\")\n",
    "ax.set_xlabel('Iterations')\n",
    "pst = plt.legend(loc='best', frameon=True)\n",
    "pst.get_frame().set_edgecolor('k');"
   ]
  },
  {
   "cell_type": "markdown",
   "metadata": {},
   "source": [
    "__Answer__: The learning rate making the algorithm converge earlier (with less iterations) is $\\alpha = 0.3$."
   ]
  },
  {
   "cell_type": "markdown",
   "metadata": {},
   "source": [
    "### Predict and compare"
   ]
  },
  {
   "cell_type": "markdown",
   "metadata": {},
   "source": [
    "Now use a test house of $1650$ ft$^2$ and $3$ bedroom, compare your prediction with `sklearn`."
   ]
  },
  {
   "cell_type": "code",
   "execution_count": 37,
   "metadata": {},
   "outputs": [],
   "source": [
    "test_house = [1650, 3] # 3 bedroom / 1650 sqft house "
   ]
  },
  {
   "cell_type": "code",
   "execution_count": 38,
   "metadata": {},
   "outputs": [
    {
     "name": "stdout",
     "output_type": "stream",
     "text": [
      "A 3 bedroom / 1650 sqft house has an expected cost of about $293311\n",
      "Your calculated prediction for a 3 bedroom / 1650 sqft house cost is: $293310.71\n"
     ]
    }
   ],
   "source": [
    "# GRADIENT DESCENT and FEATURE NORMALISATION\n",
    "#\n",
    "# running the gradient descent algorithm with best learning rate:\n",
    "betaFit, betaHist, cost, iterations = gradientDescent(X_norm, y, beta, 0.03, 500)  \n",
    "\n",
    "# normalizing the parameters:\n",
    "paramsNorm = (np.array(test_house) - mean) / sigma\n",
    "\n",
    "# adding first column of ones\n",
    "params = np.hstack((np.array([1]), paramsNorm))\n",
    "\n",
    "# predicting a house price\n",
    "predict = np.dot(betaFit, params)\n",
    "print('A 3 bedroom / 1650 sqft house has an expected cost of about $293311')\n",
    "print('Your calculated prediction for a 3 bedroom / 1650 sqft house cost is: $%0.2f' % predict)"
   ]
  },
  {
   "cell_type": "code",
   "execution_count": 44,
   "metadata": {},
   "outputs": [
    {
     "name": "stdout",
     "output_type": "stream",
     "text": [
      "sklearn predicts a price for such a house of $293081.464\n",
      "The cost you should obtain is about $293081\n"
     ]
    }
   ],
   "source": [
    "# SKLEARN LIBRARY\n",
    "#\n",
    "model = linear_model.LinearRegression()\n",
    "model.fit(x, y)\n",
    "\n",
    "skprediction = model.predict(np.array(test_house).reshape(1, -1))\n",
    "\n",
    "print('sklearn predicts a price for such a house of $%0.3f' %skprediction)\n",
    "print('The cost you should obtain is about $293081')"
   ]
  },
  {
   "cell_type": "code",
   "execution_count": null,
   "metadata": {},
   "outputs": [],
   "source": []
  }
 ],
 "metadata": {
  "kernelspec": {
   "display_name": "Python 3",
   "language": "python",
   "name": "python3"
  },
  "language_info": {
   "codemirror_mode": {
    "name": "ipython",
    "version": 3
   },
   "file_extension": ".py",
   "mimetype": "text/x-python",
   "name": "python",
   "nbconvert_exporter": "python",
   "pygments_lexer": "ipython3",
   "version": "3.5.2"
  }
 },
 "nbformat": 4,
 "nbformat_minor": 2
}
