{
 "cells": [
  {
   "cell_type": "markdown",
   "metadata": {},
   "source": [
    "![title](https://pythonawesome.com/content/images/2018/05/scikit-learn.png)"
   ]
  },
  {
   "cell_type": "markdown",
   "metadata": {},
   "source": [
    "# Learning Curves"
   ]
  },
  {
   "cell_type": "code",
   "execution_count": 1,
   "metadata": {},
   "outputs": [],
   "source": [
    "# Import standard libraries\n",
    "import pandas as pd\n",
    "import numpy as np\n",
    "\n",
    "%matplotlib inline\n",
    "import matplotlib.pyplot as plt\n",
    "\n",
    "from sklearn.linear_model import LinearRegression\n",
    "from sklearn.ensemble import RandomForestRegressor\n",
    "from sklearn.model_selection import train_test_split, cross_val_score, learning_curve"
   ]
  },
  {
   "cell_type": "markdown",
   "metadata": {},
   "source": [
    "__Question__: How to use Learning Curves to Diagnose Machine Learning Model Performance?"
   ]
  },
  {
   "cell_type": "markdown",
   "metadata": {},
   "source": [
    "This lecture aim is to define and study an important tool for diagnostic of a machine learning algorithm: __learning curves__.\n",
    "\n",
    "> A learning curve is a plot of model learning performance over experience or time.\n",
    "\n",
    "In other words, one can say that _Learning Curves_ provide a mathematical representation of the learning process that takes place as task repetition occurs."
   ]
  },
  {
   "cell_type": "markdown",
   "metadata": {},
   "source": [
    "The model can be evaluated on the training dataset and on a hold out validation dataset after each update during training and plots of the measured performance can created to show learning curves.\n",
    "\n",
    "Reviewing learning curves of models during training can be used to diagnose problems with learning, such as an underfit or overfit model, as well as whether the training and validation datasets are suitably representative."
   ]
  },
  {
   "cell_type": "markdown",
   "metadata": {},
   "source": [
    "An interesting, but quite technical, reading may be found [here](https://www.sciencedirect.com/science/article/abs/pii/S016981411100062X)."
   ]
  },
  {
   "cell_type": "markdown",
   "metadata": {},
   "source": [
    "First of all we need to choose a way to parametrise the learning performance. \n",
    "This is done through a metric (the ones we have studied previously). One can be, for instance, the learning accuracy, or precision, etc."
   ]
  },
  {
   "cell_type": "code",
   "execution_count": null,
   "metadata": {},
   "outputs": [],
   "source": []
  },
  {
   "cell_type": "markdown",
   "metadata": {},
   "source": [
    "## Working on real-world example"
   ]
  },
  {
   "cell_type": "code",
   "execution_count": 2,
   "metadata": {},
   "outputs": [],
   "source": [
    "def download_data_zip(url, excel = False):\n",
    "    \"\"\"\n",
    "    Download a ZIP file and extract its contents in memory\n",
    "    :return: a pandas dataframe\n",
    "    \"\"\"\n",
    "    from requests import get\n",
    "    from io import BytesIO\n",
    "    from zipfile import ZipFile\n",
    "\n",
    "    request = get(url)\n",
    "    zip_file = ZipFile(BytesIO(request.content))\n",
    "    files = zip_file.namelist()\n",
    "    if excel:\n",
    "        namefile = [file for file in files if 'xlsx' in file][0]\n",
    "        with zip_file.open(namefile, 'r') as excelfile:\n",
    "            df = pd.read_excel(excelfile)\n",
    "    else:\n",
    "        with zip_file.open(files[0], 'r') as csvfile:\n",
    "            df = pd.read_csv(csvfile)\n",
    "    \n",
    "    return df"
   ]
  },
  {
   "cell_type": "code",
   "execution_count": 3,
   "metadata": {},
   "outputs": [],
   "source": [
    "url = 'https://archive.ics.uci.edu/ml/machine-learning-databases/00294/CCPP.zip'\n",
    "\n",
    "columns = ['AmbientalTemperature', 'ExhaustVacuum', 'AmbientalPressure', 'RelativeHumidity', 'ElectricalEnergyOutput']\n",
    "\n",
    "df_data = download_data_zip(url, excel = True)\n",
    "df_data.columns = columns"
   ]
  },
  {
   "cell_type": "code",
   "execution_count": 4,
   "metadata": {},
   "outputs": [
    {
     "data": {
      "text/html": [
       "<div>\n",
       "<style scoped>\n",
       "    .dataframe tbody tr th:only-of-type {\n",
       "        vertical-align: middle;\n",
       "    }\n",
       "\n",
       "    .dataframe tbody tr th {\n",
       "        vertical-align: top;\n",
       "    }\n",
       "\n",
       "    .dataframe thead th {\n",
       "        text-align: right;\n",
       "    }\n",
       "</style>\n",
       "<table border=\"1\" class=\"dataframe\">\n",
       "  <thead>\n",
       "    <tr style=\"text-align: right;\">\n",
       "      <th></th>\n",
       "      <th>AmbientalTemperature</th>\n",
       "      <th>ExhaustVacuum</th>\n",
       "      <th>AmbientalPressure</th>\n",
       "      <th>RelativeHumidity</th>\n",
       "      <th>ElectricalEnergyOutput</th>\n",
       "    </tr>\n",
       "  </thead>\n",
       "  <tbody>\n",
       "    <tr>\n",
       "      <th>count</th>\n",
       "      <td>9568.000000</td>\n",
       "      <td>9568.000000</td>\n",
       "      <td>9568.000000</td>\n",
       "      <td>9568.000000</td>\n",
       "      <td>9568.000000</td>\n",
       "    </tr>\n",
       "    <tr>\n",
       "      <th>mean</th>\n",
       "      <td>19.651231</td>\n",
       "      <td>54.305804</td>\n",
       "      <td>1013.259078</td>\n",
       "      <td>73.308978</td>\n",
       "      <td>454.365009</td>\n",
       "    </tr>\n",
       "    <tr>\n",
       "      <th>std</th>\n",
       "      <td>7.452473</td>\n",
       "      <td>12.707893</td>\n",
       "      <td>5.938784</td>\n",
       "      <td>14.600269</td>\n",
       "      <td>17.066995</td>\n",
       "    </tr>\n",
       "    <tr>\n",
       "      <th>min</th>\n",
       "      <td>1.810000</td>\n",
       "      <td>25.360000</td>\n",
       "      <td>992.890000</td>\n",
       "      <td>25.560000</td>\n",
       "      <td>420.260000</td>\n",
       "    </tr>\n",
       "    <tr>\n",
       "      <th>25%</th>\n",
       "      <td>13.510000</td>\n",
       "      <td>41.740000</td>\n",
       "      <td>1009.100000</td>\n",
       "      <td>63.327500</td>\n",
       "      <td>439.750000</td>\n",
       "    </tr>\n",
       "    <tr>\n",
       "      <th>50%</th>\n",
       "      <td>20.345000</td>\n",
       "      <td>52.080000</td>\n",
       "      <td>1012.940000</td>\n",
       "      <td>74.975000</td>\n",
       "      <td>451.550000</td>\n",
       "    </tr>\n",
       "    <tr>\n",
       "      <th>75%</th>\n",
       "      <td>25.720000</td>\n",
       "      <td>66.540000</td>\n",
       "      <td>1017.260000</td>\n",
       "      <td>84.830000</td>\n",
       "      <td>468.430000</td>\n",
       "    </tr>\n",
       "    <tr>\n",
       "      <th>max</th>\n",
       "      <td>37.110000</td>\n",
       "      <td>81.560000</td>\n",
       "      <td>1033.300000</td>\n",
       "      <td>100.160000</td>\n",
       "      <td>495.760000</td>\n",
       "    </tr>\n",
       "  </tbody>\n",
       "</table>\n",
       "</div>"
      ],
      "text/plain": [
       "       AmbientalTemperature  ExhaustVacuum  AmbientalPressure  \\\n",
       "count           9568.000000    9568.000000        9568.000000   \n",
       "mean              19.651231      54.305804        1013.259078   \n",
       "std                7.452473      12.707893           5.938784   \n",
       "min                1.810000      25.360000         992.890000   \n",
       "25%               13.510000      41.740000        1009.100000   \n",
       "50%               20.345000      52.080000        1012.940000   \n",
       "75%               25.720000      66.540000        1017.260000   \n",
       "max               37.110000      81.560000        1033.300000   \n",
       "\n",
       "       RelativeHumidity  ElectricalEnergyOutput  \n",
       "count       9568.000000             9568.000000  \n",
       "mean          73.308978              454.365009  \n",
       "std           14.600269               17.066995  \n",
       "min           25.560000              420.260000  \n",
       "25%           63.327500              439.750000  \n",
       "50%           74.975000              451.550000  \n",
       "75%           84.830000              468.430000  \n",
       "max          100.160000              495.760000  "
      ]
     },
     "execution_count": 4,
     "metadata": {},
     "output_type": "execute_result"
    }
   ],
   "source": [
    "df_data.describe()"
   ]
  },
  {
   "cell_type": "markdown",
   "metadata": {},
   "source": [
    "The `ElectricalEnergyOutput` is the target variable. All the others are features."
   ]
  },
  {
   "cell_type": "code",
   "execution_count": 5,
   "metadata": {},
   "outputs": [],
   "source": [
    "features = columns[:-1]\n",
    "target = columns[-1]"
   ]
  },
  {
   "cell_type": "markdown",
   "metadata": {},
   "source": [
    "Let’s first decide what training set sizes we want to use for generating the learning curves. The minimum value is $1$. The maximum is given by the number of instances in the training set. As one can see, our training set has $9568$ instances, so the maximum value is $9568$. However, we want to put aside a validation set. We will do that using an $80:20$ ratio, ending up with a training set of $7654$ instances ($80\\%$), and a validation set of $1914$ instances ($20\\%$). Given that our training set will have $7654$ instances, the maximum value we can use to generate our learning curves is $7654$."
   ]
  },
  {
   "cell_type": "code",
   "execution_count": 7,
   "metadata": {},
   "outputs": [],
   "source": [
    "train_sizes = [1, 100, 500, 2000, 5000, 7654] # For our case, we use these six sizes."
   ]
  },
  {
   "cell_type": "markdown",
   "metadata": {},
   "source": [
    "### The `learning_curve` function from `scikit-learn`"
   ]
  },
  {
   "cell_type": "markdown",
   "metadata": {},
   "source": [
    "We are going to use the library [function](https://scikit-learn.org/stable/modules/generated/sklearn.model_selection.learning_curve.html) `learning_curve` to generate a learning curve for a simple regression model.\n",
    "\n",
    "There’s no need on our part to put aside a validation set because the function will take care of that."
   ]
  },
  {
   "cell_type": "code",
   "execution_count": 8,
   "metadata": {},
   "outputs": [],
   "source": [
    "train_sizes, train_scores, validation_scores = learning_curve(\n",
    "estimator = LinearRegression(),\n",
    "X = df_data[features],\n",
    "y = df_data[target], train_sizes = train_sizes, cv = 5,\n",
    "scoring = 'neg_mean_squared_error')"
   ]
  },
  {
   "cell_type": "markdown",
   "metadata": {},
   "source": [
    "In the cell above, we made use of `learning_curve` to generate the data needed to plot a learning curve. \n",
    "The function returns a tuple containing three elements: \n",
    "1. the training set sizes;\n",
    "2. the error scores on the validation sets;\n",
    "3. the error scores on the training sets. \n",
    "\n",
    "The function takes the following parameters:\n",
    "\n",
    "* __estimator__: indicates the learning algorithm we use to estimate the true model;\n",
    "* __X__: the data containing the features;\n",
    "* __y__: the target data;\n",
    "* __train_sizes__: specifies the training set sizes to be used;\n",
    "* __cv__: determines the cross-validation splitting strategy;\n",
    "* __scoring__: indicates the error metric to use.\n",
    "\n",
    "In our case, the standard metric for a linear regression problem as measure error (or cost function) is the mean squared error (MSE) metric. However, we want something like a _score_ meaning something to be maximised, rather than minimised. For this reason we used the negative version of MSE, obtained by just flipping a sign."
   ]
  },
  {
   "cell_type": "code",
   "execution_count": 9,
   "metadata": {},
   "outputs": [
    {
     "name": "stdout",
     "output_type": "stream",
     "text": [
      "Training scores:\n",
      "\n",
      " [[ -0.          -0.          -0.          -0.          -0.        ]\n",
      " [-19.71230701 -18.31492642 -18.31492642 -18.31492642 -18.31492642]\n",
      " [-18.14420459 -19.63885072 -19.63885072 -19.63885072 -19.63885072]\n",
      " [-21.53603444 -20.18568787 -19.98317419 -19.98317419 -19.98317419]\n",
      " [-20.47708899 -19.93364211 -20.56091569 -20.4150839  -20.4150839 ]\n",
      " [-20.98565335 -20.63006094 -21.04384703 -20.63526811 -20.52955609]]\n",
      "\n",
      " ----------------------------------------------------------------------\n",
      "\n",
      "Validation scores:\n",
      "\n",
      " [[-619.30514723 -379.81090366 -374.4107861  -370.03037109 -373.30597982]\n",
      " [ -21.80224219  -23.01103419  -20.81350389  -22.88459236  -23.44955492]\n",
      " [ -19.96005238  -21.2771561   -19.75136596  -21.4325615   -21.89067652]\n",
      " [ -19.92863783  -21.35440062  -19.62974239  -21.38631648  -21.811031  ]\n",
      " [ -19.88806264  -21.3183303   -19.68228562  -21.35019525  -21.75949097]\n",
      " [ -19.9046791   -21.33448781  -19.67831137  -21.31935146  -21.73778949]]\n"
     ]
    }
   ],
   "source": [
    "print('Training scores:\\n\\n', train_scores)\n",
    "print('\\n', '=' * 70) # separator to make the output easy to read\n",
    "print('\\nValidation scores:\\n\\n', validation_scores)"
   ]
  },
  {
   "cell_type": "markdown",
   "metadata": {},
   "source": [
    "Since we specified six training set sizes, one might have expected six values for each kind of score.\n",
    "\n",
    "Instead, we got six rows for each, and every row has five error scores. \n",
    "\n",
    "__Question__: Why we obtained such an apparently weird result?"
   ]
  },
  {
   "cell_type": "markdown",
   "metadata": {},
   "source": [
    "This happens because `learning_curve()` runs a $k$-fold cross-validation under the hood, where the value of $k$ is given by what we specify for the `cv` parameter. In our case, \n",
    "`cv = 5`, so there will be five splits. \n",
    "\n",
    "For each split, an estimator is trained for every training set size specified. \n",
    "Each column in the two arrays above designates a split, and each row corresponds to a test size. "
   ]
  },
  {
   "cell_type": "markdown",
   "metadata": {},
   "source": [
    "__Question__: How do we assign a single score value to a $k$-fold validation procedure?\n",
    "\n",
    "Nothing easier! Average over the $k$ values."
   ]
  },
  {
   "cell_type": "code",
   "execution_count": 10,
   "metadata": {},
   "outputs": [
    {
     "name": "stdout",
     "output_type": "stream",
     "text": [
      "Mean training scores\n",
      "\n",
      " 1       -0.000000\n",
      "100     18.594403\n",
      "500     19.339921\n",
      "2000    20.334249\n",
      "5000    20.360363\n",
      "7654    20.764877\n",
      "dtype: float64\n",
      "\n",
      " --------------------\n",
      "\n",
      "Mean validation scores\n",
      "\n",
      " 1       423.372638\n",
      "100      22.392186\n",
      "500      20.862362\n",
      "2000     20.822026\n",
      "5000     20.799673\n",
      "7654     20.794924\n",
      "dtype: float64\n"
     ]
    }
   ],
   "source": [
    "train_scores_mean = -train_scores.mean(axis = 1)\n",
    "validation_scores_mean = -validation_scores.mean(axis = 1)\n",
    "print('Mean training scores\\n\\n', pd.Series(train_scores_mean, index = train_sizes))\n",
    "print('\\n', '-' * 20) # separator\n",
    "print('\\nMean validation scores\\n\\n',pd.Series(validation_scores_mean, index = train_sizes))"
   ]
  },
  {
   "cell_type": "markdown",
   "metadata": {},
   "source": [
    "### Learning curves and $k$-fold validation"
   ]
  },
  {
   "cell_type": "markdown",
   "metadata": {},
   "source": [
    "Before proceeding to plot our learning curves, one might have noticed, we got a lot of identical values in the numerical results above, related to training set values.\n",
    "The aim of this brief section is to explore the reason behind this behaviour."
   ]
  },
  {
   "cell_type": "markdown",
   "metadata": {},
   "source": [
    "First of all, for train size$ = 1$ this is something expected.\n",
    "What about the other rows? With the exception of the last row, we have a lot of identical values.\n",
    "\n",
    "This is due to the fact we have not randomised the training data for each split. \n",
    "\n",
    "Let’s walk through a single example with the aid of the diagram below. When the training size is $500$ the first $500$ instances in the training set are selected."
   ]
  },
  {
   "cell_type": "markdown",
   "metadata": {},
   "source": [
    "For the first split, these $500$ instances will be taken from the second chunk. \n",
    "From the second split onward, these $500$ instances will be taken from the first chunk. \n",
    "Because we do not randomize the training set, the $500$ instances used for training are the same for the second split onward. This explains the identical values from the second split onward for the $500$ training instances case. An identical reasoning applies to the $100$ instances case, and a similar reasoning applies to the other cases. "
   ]
  },
  {
   "cell_type": "markdown",
   "metadata": {},
   "source": [
    "![title](https://www.dataquest.io/wp-content/uploads/2019/01/splits.png)"
   ]
  },
  {
   "cell_type": "markdown",
   "metadata": {},
   "source": [
    "To avoid this behavior, we need to set to `True` a parameter called `shuffle` in the `learning_curve` function.\n",
    "This will randomise the indices for the training data for each split. \n",
    "We did not randomise above for two reasons:\n",
    "\n",
    "1. The data comes pre-shuffled five times (as mentioned in the [documentation](https://archive.ics.uci.edu/ml/datasets/Combined+Cycle+Power+Plant)) so there were no need to randomise anymore.\n",
    "\n",
    "2. Randomising, how could I have explained this? 😊"
   ]
  },
  {
   "cell_type": "markdown",
   "metadata": {},
   "source": [
    "### Plotting learning curves"
   ]
  },
  {
   "cell_type": "markdown",
   "metadata": {},
   "source": [
    "We are now ready to plot!"
   ]
  },
  {
   "cell_type": "markdown",
   "metadata": {},
   "source": [
    "![title](data:image/jpeg;base64,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)"
   ]
  },
  {
   "cell_type": "code",
   "execution_count": 27,
   "metadata": {},
   "outputs": [
    {
     "data": {
      "text/plain": [
       "<matplotlib.legend.Legend at 0x7feec2497908>"
      ]
     },
     "execution_count": 27,
     "metadata": {},
     "output_type": "execute_result"
    },
    {
     "data": {
      "image/png": "[encoded data removed]",
      "text/plain": [
       "<Figure size 1152x720 with 1 Axes>"
      ]
     },
     "metadata": {},
     "output_type": "display_data"
    }
   ],
   "source": [
    "plt.style.use('seaborn')\n",
    "plt.figure(figsize = (16,10))\n",
    "plt.plot(train_sizes, train_scores_mean, label = 'Training error')\n",
    "plt.plot(train_sizes, validation_scores_mean, label = 'Validation error')\n",
    "plt.ylabel('MSE', fontsize = 14)\n",
    "plt.xlabel('Training set size', fontsize = 14)\n",
    "plt.title('Learning curves for a linear regression model', fontsize = 18, y = 1.03)\n",
    "plt.ylim(0,40)\n",
    "plt.legend()"
   ]
  },
  {
   "cell_type": "markdown",
   "metadata": {},
   "source": [
    "#### Plot analysis"
   ]
  },
  {
   "cell_type": "markdown",
   "metadata": {},
   "source": [
    "There is a lot of information we can extract from the plot above.\n",
    "\n",
    "When the training set size is $1$, we can see that the error metric for the training set is $0$. This is normal, since the model has no problem fitting perfectly a single data point. \n",
    "So when tested upon the same data point, the prediction is perfect. But when tested on the _validation set_ (which has $1914$ instances), the MSE rockets up to roughly $423.4$. This relatively high value is the reason we restrict the y-axis range between $0$ and $40$. This enables us to read most MSE values with precision. Such a high value is expected, since it’s extremely unlikely that a model trained on a single data point can generalize accurately to $1914$ new instances it has not seen in training. \n",
    "\n",
    "This is the extreme example of overfitting. Perfect results on training set and high values of error on validation set.\n",
    "\n",
    "When the training set size increases to $100$, the training MSE increases sharply, while the validation MSE decreases likewise.\n",
    "The linear regression model doesn’t predict all $100$ training points perfectly, so the training MSE is greater than $0$. \n",
    "However, the model performs much better now on the validation set because it is estimated with more data. \n",
    "\n",
    "From $500$ training data points onward, the validation MSE stays roughly the same. \n",
    "This tells us something extremely important: \n",
    "\n",
    "> Adding more training data points will not lead to significantly better models. So instead of wasting time (and possibly money) with collecting more data, we need to try something else, like switching to an algorithm that can build more complex models. \n"
   ]
  },
  {
   "cell_type": "markdown",
   "metadata": {},
   "source": [
    "We are in a situation like in the left plot below.\n",
    "On the other hand if the learning curves plot would have been the right hand case, adding more data to training example would have improved the situation."
   ]
  },
  {
   "cell_type": "markdown",
   "metadata": {},
   "source": [
    "![title](https://www.dataquest.io/wp-content/uploads/2019/01/add_data.png)"
   ]
  },
  {
   "cell_type": "markdown",
   "metadata": {},
   "source": [
    "To avoid a misconception here, it is important to stress the fact that what really does not help is adding more instances (rows) to the training data. \n",
    "Adding more features, on the other hand, is a different thing and is very likely to help because it increases the complexity of our current model. \n",
    "\n",
    "Let’s now move to diagnosing bias and variance. "
   ]
  },
  {
   "cell_type": "markdown",
   "metadata": {},
   "source": [
    "### Bias"
   ]
  },
  {
   "cell_type": "markdown",
   "metadata": {},
   "source": [
    "The main indicator of a _bias_ problem is a _high validation error_. \n",
    "In our current case, the validation MSE stagnates at a value of approximately $20$. \n",
    "But how good is that? \n",
    "We would benefit from some _domain knowledge_ (perhaps physics or engineering in this case) to answer this, so the best thing is to ask to some collaborator, here we cannot, so we ask google."
   ]
  },
  {
   "cell_type": "markdown",
   "metadata": {},
   "source": [
    "Technically, that value of $20$ has MW$^2$ (megawatts squared), recall that the error metric is the mean _squared_ error, thus units have been squared. Thus, to compare with the values in the target column we have to take the square root,\n",
    "\n",
    "$$ \\sqrt{20\\, \\mathrm{MW}^2} \\simeq 4.5\\, \\mathrm{MW}$$\n",
    "\n",
    "Each target value represents net _hourly_ electrical energy output. So for each hour our model is off by $4.5$ MW on average. \n",
    "According to [this Quora answer](https://www.quora.com/How-can-I-get-an-intuitive-understanding-of-what-a-Kw-Mw-Gw-of-electricity-equates-to-in-real-life-terms), $4.5$ MW is equivalent to the heat power produced by $4500$ handheld hair dryers. And this would add up if we tried to predict the total energy output for one day or a longer period. We can conclude that the an mean squared error of $20$ MW is quite large. Hence, we can conclude our model has a bias problem."
   ]
  },
  {
   "cell_type": "markdown",
   "metadata": {},
   "source": [
    "__Question__: But is it a low bias problem or a high bias problem?"
   ]
  },
  {
   "cell_type": "markdown",
   "metadata": {},
   "source": [
    "To find the answer, we need to look at the _training error_. \n",
    "\n",
    "If the training error is low, it means that the training data is fitted very well by the estimated model. \n",
    "If the model fits the training data very well, it means it has low bias with respect to that set of data. \n",
    "\n",
    "If the training error is high, it means that the training data is not fitted well enough by the estimated model. If the model fails to fit the training data well, it means it has high bias with respect to that set of data. "
   ]
  },
  {
   "cell_type": "markdown",
   "metadata": {},
   "source": [
    "![title](https://www.dataquest.io/wp-content/uploads/2019/01/low_high_bias.png)"
   ]
  },
  {
   "cell_type": "markdown",
   "metadata": {},
   "source": [
    "In our particular case, the training MSE plateaus at a value of roughly $20$ MW$^2$. \n",
    "As we have already established, this is a high error score. Since the validation MSE is high, and the training MSE is high as well, our model has a high bias problem."
   ]
  },
  {
   "cell_type": "markdown",
   "metadata": {},
   "source": [
    "### Variance"
   ]
  },
  {
   "cell_type": "markdown",
   "metadata": {},
   "source": [
    "Now let’s move with diagnosing eventual variance problems.\n",
    "\n",
    "Estimating variance can be done in at least two ways:\n",
    "\n",
    "* By examining the gap between the validation learning curve and training learning curve.\n",
    "* By examining the training error: its value and its evolution as the training set sizes increase."
   ]
  },
  {
   "cell_type": "markdown",
   "metadata": {},
   "source": [
    "![title](https://www.dataquest.io/wp-content/uploads/2019/01/lc_regression.png)"
   ]
  },
  {
   "cell_type": "markdown",
   "metadata": {},
   "source": [
    "A narrow gap indicates low variance. \n",
    "\n",
    "Generally, the more narrow the gap, the lower the variance. \n",
    "The opposite is also true: the wider the gap, the greater the variance. \n",
    "\n",
    "Let’s now explore why this is the case. As we have discussed earlier, if the variance is high, then the model fits training data too well. When training data is fitted too well, the model will have trouble generalizing on data that has not seen in training. \n",
    "When such a model is tested on its training set, and then on a validation set, the training error will be low and the validation error will generally be high. As we change training set sizes, this pattern continues, and the differences between training and validation errors will determine that gap between the two learning curves."
   ]
  },
  {
   "cell_type": "markdown",
   "metadata": {},
   "source": [
    "The relationship between the training and validation error, and the gap $\\Delta$ can be summarized this way: \n",
    "\n",
    "$$ \\Delta = \\varepsilon_{\\mathrm{validation}} - \\varepsilon_{\\mathrm{training}} \\, .  $$\n",
    "\n",
    "So the bigger the difference between the two errors, the bigger the gap. The bigger the gap, the bigger the variance. In our case, the gap is very narrow, so we can safely conclude that the variance is low. High training scores are also a quick way to detect low variance. If the variance of a learning algorithm is low, then the algorithm will come up with simplistic and similar models as we change the training sets. Because the models are overly simplified, they cannot even fit the training data well (they underfit the data). So we should expect high training errors and, conversely, high training error may be used as an indicator of low variance."
   ]
  },
  {
   "cell_type": "markdown",
   "metadata": {},
   "source": [
    "![title](https://www.dataquest.io/wp-content/uploads/2019/01/low_high_var.png)"
   ]
  },
  {
   "cell_type": "markdown",
   "metadata": {},
   "source": [
    "In our case, the training MSE plateaus at around $20$, and we have already concluded that is an high value. So besides the narrow gap, we now have another confirmation that we have a low variance problem. So far, we can conclude that:\n",
    "\n",
    "* Our learning algorithm suffers from high bias and low variance, _i.e._ __underfitting__ the training data.\n",
    "\n",
    "* Adding more data examples to the training data is hugely unlikely to lead to better models under the current learning algorithm.\n",
    "\n",
    "__Question__: how do we fix this?"
   ]
  },
  {
   "cell_type": "markdown",
   "metadata": {},
   "source": [
    "For sure, we can state that trying to increase the number of training instances would be a mistake.\n",
    "\n",
    "Generally, these are the most common fixes working when dealing with a high bias and low variance problem:\n",
    "\n",
    "1. Changing to a more complex learning algorithm. This should decrease the bias and increase the variance. \n",
    "\n",
    "2. Training the current learning algorithm on more features (to avoid collecting new data, you can generate easily polynomial features). This should lower the bias by increasing the model’s complexity.\n",
    "\n",
    "3. Decreasing the regularization of the current learning algorithm, if that is the case. In a nutshell, regularization prevents the algorithm from overfitting the training data. If we decrease regularization, the model will fit training data better, and, as a consequence, the variance will increase and the bias will decrease."
   ]
  },
  {
   "cell_type": "markdown",
   "metadata": {},
   "source": [
    "#### the low bias and high variance case"
   ]
  },
  {
   "cell_type": "markdown",
   "metadata": {},
   "source": [
    "Let’s see how an unregularized Random Forest regressor fares here. \n",
    "\n",
    "We will generate the learning curves using the same workflow as above. This time we will bundle everything into a function so we can use it for later. For comparison, we will also display the learning curves for the previous linear regression model above."
   ]
  },
  {
   "cell_type": "code",
   "execution_count": 21,
   "metadata": {},
   "outputs": [
    {
     "data": {
      "image/png": "[encoded data removed]",
      "text/plain": [
       "<Figure size 1152x360 with 2 Axes>"
      ]
     },
     "metadata": {},
     "output_type": "display_data"
    }
   ],
   "source": [
    "### Bundling our previous work into a function ###\n",
    "def learning_curves(estimator, data, features, target, train_sizes, cv):\n",
    "    train_sizes, train_scores, validation_scores = learning_curve(\n",
    "    estimator, data[features], data[target], train_sizes =\n",
    "    train_sizes,\n",
    "    cv = cv, scoring = 'neg_mean_squared_error')\n",
    "    train_scores_mean = -train_scores.mean(axis = 1)\n",
    "    validation_scores_mean = -validation_scores.mean(axis = 1)\n",
    "\n",
    "    plt.plot(train_sizes, train_scores_mean, label = 'Training error')\n",
    "    plt.plot(train_sizes, validation_scores_mean, label = 'Validation error')\n",
    "\n",
    "    plt.ylabel('MSE', fontsize = 14)\n",
    "    plt.xlabel('Training set size', fontsize = 14)\n",
    "    title = 'Learning curves for a ' + str(estimator).split('(')[0] + ' model'\n",
    "    plt.title(title, fontsize = 18, y = 1.03)\n",
    "    plt.legend()\n",
    "    plt.ylim(0,40)\n",
    "\n",
    "### Plotting the two learning curves ###\n",
    "\n",
    "plt.figure(figsize = (16,5))\n",
    "\n",
    "for model, i in [(RandomForestRegressor(n_estimators=10), 1), (LinearRegression(),2)]:\n",
    "    plt.subplot(1,2,i)\n",
    "    learning_curves(model, df_data, features, target, train_sizes, 5)"
   ]
  },
  {
   "cell_type": "markdown",
   "metadata": {},
   "source": [
    "Now let’s try to apply what we have just learned. \n",
    "\n",
    "It would be a good idea to pause reading at this point and try to interpret the new learning curves yourself. Looking at the validation curve, we can see that we have managed to decrease bias. There still is some significant bias, but not that much as before. Looking at the training curve, we can deduce that this time there is a low bias problem.\n",
    "\n",
    "The new gap between the two learning curves suggests a substantial increase in variance. The low training MSEs corroborate this diagnosis of high variance. The large gap and the low training error also indicates an overfitting problem. __Overfitting__ happens when the model performs well on the training set, but far poorer on the test (or validation) set. One more important observation we can make here is that adding new training instances is very likely to lead to better models. The validation curve does not plateau at the maximum training set size used. It still has potential to decrease and converge toward the training curve, similar to the convergence we see in the linear regression case. \n",
    "\n",
    "So far, we can conclude that:\n",
    "\n",
    "* Our learning algorithm (random forests) suffers from high variance and quite a low bias, overfitting the training data.\n",
    "\n",
    "* Adding more training instances is very likely to lead to better models under the current learning algorithm."
   ]
  },
  {
   "cell_type": "markdown",
   "metadata": {},
   "source": [
    "__Question__: What can we do to improve our model?"
   ]
  },
  {
   "cell_type": "markdown",
   "metadata": {},
   "source": [
    "1. Well, first of all adding more training data.\n",
    "\n",
    "2. As opposite to the previous case, increasing the regularization for our current learning algorithm. This should decrease the variance and increase the bias.\n",
    "\n",
    "3. Reducing the numbers of features in the training data we currently use. The algorithm will still fit the training data very well, but due to the decreased number of features, it will build less complex models. This should increase the bias and decrease the variance."
   ]
  },
  {
   "cell_type": "markdown",
   "metadata": {},
   "source": [
    "In our case, as in the majority of practical situations, we do not have any other readily available data.\n",
    "\n",
    "Let’s rather try to regularize our random forests algorithm. One way to do that is to adjust the maximum number of _leaf nodes_ in each decision tree. This can be done by using the `max_leaf_nodes` parameter of `RandomForestRegressor`. \n",
    "\n",
    "It is not necessarily for you to understand this regularization technique. For our purpose here, what you need to focus on is the effect of this regularization on the learning curves."
   ]
  },
  {
   "cell_type": "code",
   "execution_count": 28,
   "metadata": {},
   "outputs": [
    {
     "data": {
      "image/png": "[encoded data removed]",
      "text/plain": [
       "<Figure size 1152x720 with 1 Axes>"
      ]
     },
     "metadata": {},
     "output_type": "display_data"
    }
   ],
   "source": [
    "plt.figure(figsize = (16,10))\n",
    "learning_curves(RandomForestRegressor(max_leaf_nodes = 10, n_estimators=10), df_data, features, target, train_sizes, cv = 5)"
   ]
  },
  {
   "cell_type": "markdown",
   "metadata": {},
   "source": [
    "The gap is now more narrow, so there is less variance. \n",
    "\n",
    "The bias seems to have increased just a bit, which is what we wanted. But our work is far from over! The validation MSE still shows a lot of potential to decrease."
   ]
  },
  {
   "cell_type": "markdown",
   "metadata": {},
   "source": [
    "## Exercise"
   ]
  },
  {
   "cell_type": "markdown",
   "metadata": {},
   "source": [
    "Try to apply the following steps toward the goal of lowering validation error:\n",
    "\n",
    "1. Adding more training instances.\n",
    "2. Adding more features.\n",
    "3. Feature selection.\n",
    "4. Hyperparameter optimization."
   ]
  },
  {
   "cell_type": "markdown",
   "metadata": {},
   "source": [
    "### The ideal learning curves and the irreducible error"
   ]
  },
  {
   "cell_type": "markdown",
   "metadata": {},
   "source": [
    "Learning curves constitute a great tool to do a quick check on our models at every point in our machine learning workflow. In other words, they are diagnostic instruments, allowing us to monitoring quality of our learning process. But how do we know when to stop? How do we recognize the perfect learning curves? For our regression case before, you might think that the perfect scenario is when both curves converge toward an error of 0. \n",
    "\n",
    "That would be a perfect scenario, indeed, but, unfortunately, as you can imagine, it is not possible.\n",
    "\n",
    "Neither in practice, neither in theory. And this is because of something called _irreducible error_. When we build a model to map the relationship between the features $X$ and the target $Y$ , we assume that there is such a relationship in the first place.\n",
    "\n",
    "Provided the assumption is true, there is a true model $f$ that describes perfectly the relationship between $X$ and $Y$, like so:\n",
    "\n",
    "$$ Y = f(X) + \\varepsilon_{\\mathrm{irr}}\\, , $$\n",
    "\n",
    "where, we denoted with $\\varepsilon_{\\mathrm{irr}}$ the irreducible error. There is an error there because $Y$ is not only a function of our limited number of features $X$, but it might depend on many other features that influence its value. Features we may not have access to, or simply we do not know.\n",
    "It might also be the case that $X$ contains measurement errors.\n",
    "\n",
    "Why do we call it an _irreducible_ error? Well, when we approximate $f$ with another model $\\hat{f}$, we introduce another error $\\varepsilon$, such that,\n",
    "\n",
    "$$ Y = \\hat{f}(X) + \\varepsilon + \\varepsilon_{\\mathrm{irr}}\\, , $$\n",
    "\n",
    "Errors (like $\\varepsilon$) that are reducible can be reduced by building better models. A crucial thing to say is that all the errors are always non-negative, meaning we cannot adjust $\\varepsilon$ to cancel $\\varepsilon_{\\mathrm{irr}}$. Hence the best we can do is $\\varepsilon = 0$ while $\\varepsilon_{\\mathrm{irr}}$ is still there. From here, we deduce that \n",
    "\n",
    "> No matter how good our model estimate is, generally there still is some error we cannot reduce."
   ]
  },
  {
   "cell_type": "markdown",
   "metadata": {},
   "source": [
    "![title](https://www.dataquest.io/wp-content/uploads/2019/01/irr_error.png)"
   ]
  },
  {
   "cell_type": "markdown",
   "metadata": {},
   "source": [
    "In practice (and here problems come), the exact value of the irreducible error is almost always unknown. We also assume that the irreducible error is independent of $X$. This means that we cannot use $X$ to find the true irreducible error. Expressing the same thing in the more precise language of mathematics, there is no function $\\varphi$ to map $X$ to the true value of the irreducible error:\n",
    "\n",
    "$$\\varepsilon_{\\mathrm{irr}} \\neq \\varphi(X) \\, . $$\n",
    "\n",
    "So there is no way to know the true value of the irreducible error based on the data we have. \n",
    "\n",
    "My advice is the following. A good workaround is to try to lower the error score as much as possible, while keeping in mind that the limit is given by some irreducible error."
   ]
  },
  {
   "cell_type": "markdown",
   "metadata": {},
   "source": [
    "### Exercise"
   ]
  },
  {
   "cell_type": "markdown",
   "metadata": {},
   "source": [
    "Try to implement one of the techniques described above to reduce the bias of the regression model we used."
   ]
  },
  {
   "cell_type": "markdown",
   "metadata": {},
   "source": [
    "## Exercise"
   ]
  },
  {
   "cell_type": "markdown",
   "metadata": {},
   "source": [
    "Generate learning curves for a classification task, for example using iris or breast_cancer dataset.\n",
    "\n",
    "Plot curves and determine whether your classifier is bias or variance affected."
   ]
  }
 ],
 "metadata": {
  "kernelspec": {
   "display_name": "Python 3",
   "language": "python",
   "name": "python3"
  },
  "language_info": {
   "codemirror_mode": {
    "name": "ipython",
    "version": 3
   },
   "file_extension": ".py",
   "mimetype": "text/x-python",
   "name": "python",
   "nbconvert_exporter": "python",
   "pygments_lexer": "ipython3",
   "version": "3.5.2"
  }
 },
 "nbformat": 4,
 "nbformat_minor": 2
}
